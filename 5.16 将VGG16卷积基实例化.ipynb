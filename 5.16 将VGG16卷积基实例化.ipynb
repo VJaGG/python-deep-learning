{
 "cells": [
  {
   "cell_type": "code",
   "execution_count": 1,
   "metadata": {},
   "outputs": [
    {
     "name": "stderr",
     "output_type": "stream",
     "text": [
      "Using TensorFlow backend.\n",
      "/data/bitt/wzq/anaconda3/envs/tf_gpu/lib/python3.7/site-packages/tensorflow/python/framework/dtypes.py:516: FutureWarning: Passing (type, 1) or '1type' as a synonym of type is deprecated; in a future version of numpy, it will be understood as (type, (1,)) / '(1,)type'.\n",
      "  _np_qint8 = np.dtype([(\"qint8\", np.int8, 1)])\n",
      "/data/bitt/wzq/anaconda3/envs/tf_gpu/lib/python3.7/site-packages/tensorflow/python/framework/dtypes.py:517: FutureWarning: Passing (type, 1) or '1type' as a synonym of type is deprecated; in a future version of numpy, it will be understood as (type, (1,)) / '(1,)type'.\n",
      "  _np_quint8 = np.dtype([(\"quint8\", np.uint8, 1)])\n",
      "/data/bitt/wzq/anaconda3/envs/tf_gpu/lib/python3.7/site-packages/tensorflow/python/framework/dtypes.py:518: FutureWarning: Passing (type, 1) or '1type' as a synonym of type is deprecated; in a future version of numpy, it will be understood as (type, (1,)) / '(1,)type'.\n",
      "  _np_qint16 = np.dtype([(\"qint16\", np.int16, 1)])\n",
      "/data/bitt/wzq/anaconda3/envs/tf_gpu/lib/python3.7/site-packages/tensorflow/python/framework/dtypes.py:519: FutureWarning: Passing (type, 1) or '1type' as a synonym of type is deprecated; in a future version of numpy, it will be understood as (type, (1,)) / '(1,)type'.\n",
      "  _np_quint16 = np.dtype([(\"quint16\", np.uint16, 1)])\n",
      "/data/bitt/wzq/anaconda3/envs/tf_gpu/lib/python3.7/site-packages/tensorflow/python/framework/dtypes.py:520: FutureWarning: Passing (type, 1) or '1type' as a synonym of type is deprecated; in a future version of numpy, it will be understood as (type, (1,)) / '(1,)type'.\n",
      "  _np_qint32 = np.dtype([(\"qint32\", np.int32, 1)])\n",
      "/data/bitt/wzq/anaconda3/envs/tf_gpu/lib/python3.7/site-packages/tensorflow/python/framework/dtypes.py:525: FutureWarning: Passing (type, 1) or '1type' as a synonym of type is deprecated; in a future version of numpy, it will be understood as (type, (1,)) / '(1,)type'.\n",
      "  np_resource = np.dtype([(\"resource\", np.ubyte, 1)])\n",
      "/data/bitt/wzq/anaconda3/envs/tf_gpu/lib/python3.7/site-packages/tensorboard/compat/tensorflow_stub/dtypes.py:541: FutureWarning: Passing (type, 1) or '1type' as a synonym of type is deprecated; in a future version of numpy, it will be understood as (type, (1,)) / '(1,)type'.\n",
      "  _np_qint8 = np.dtype([(\"qint8\", np.int8, 1)])\n",
      "/data/bitt/wzq/anaconda3/envs/tf_gpu/lib/python3.7/site-packages/tensorboard/compat/tensorflow_stub/dtypes.py:542: FutureWarning: Passing (type, 1) or '1type' as a synonym of type is deprecated; in a future version of numpy, it will be understood as (type, (1,)) / '(1,)type'.\n",
      "  _np_quint8 = np.dtype([(\"quint8\", np.uint8, 1)])\n",
      "/data/bitt/wzq/anaconda3/envs/tf_gpu/lib/python3.7/site-packages/tensorboard/compat/tensorflow_stub/dtypes.py:543: FutureWarning: Passing (type, 1) or '1type' as a synonym of type is deprecated; in a future version of numpy, it will be understood as (type, (1,)) / '(1,)type'.\n",
      "  _np_qint16 = np.dtype([(\"qint16\", np.int16, 1)])\n",
      "/data/bitt/wzq/anaconda3/envs/tf_gpu/lib/python3.7/site-packages/tensorboard/compat/tensorflow_stub/dtypes.py:544: FutureWarning: Passing (type, 1) or '1type' as a synonym of type is deprecated; in a future version of numpy, it will be understood as (type, (1,)) / '(1,)type'.\n",
      "  _np_quint16 = np.dtype([(\"quint16\", np.uint16, 1)])\n",
      "/data/bitt/wzq/anaconda3/envs/tf_gpu/lib/python3.7/site-packages/tensorboard/compat/tensorflow_stub/dtypes.py:545: FutureWarning: Passing (type, 1) or '1type' as a synonym of type is deprecated; in a future version of numpy, it will be understood as (type, (1,)) / '(1,)type'.\n",
      "  _np_qint32 = np.dtype([(\"qint32\", np.int32, 1)])\n",
      "/data/bitt/wzq/anaconda3/envs/tf_gpu/lib/python3.7/site-packages/tensorboard/compat/tensorflow_stub/dtypes.py:550: FutureWarning: Passing (type, 1) or '1type' as a synonym of type is deprecated; in a future version of numpy, it will be understood as (type, (1,)) / '(1,)type'.\n",
      "  np_resource = np.dtype([(\"resource\", np.ubyte, 1)])\n"
     ]
    }
   ],
   "source": [
    "import os\n",
    "os.environ['CUDA_VISIBLE_DEVICES'] = '7'\n",
    "from keras.applications import VGG16"
   ]
  },
  {
   "cell_type": "code",
   "execution_count": 2,
   "metadata": {},
   "outputs": [
    {
     "name": "stdout",
     "output_type": "stream",
     "text": [
      "WARNING:tensorflow:From /data/bitt/wzq/anaconda3/envs/tf_gpu/lib/python3.7/site-packages/keras/backend/tensorflow_backend.py:4070: The name tf.nn.max_pool is deprecated. Please use tf.nn.max_pool2d instead.\n",
      "\n"
     ]
    }
   ],
   "source": [
    "conv_base = VGG16(weights='imagenet',\n",
    "                  include_top=False,\n",
    "                  input_shape=(150, 150, 3))"
   ]
  },
  {
   "cell_type": "code",
   "execution_count": 3,
   "metadata": {},
   "outputs": [
    {
     "name": "stdout",
     "output_type": "stream",
     "text": [
      "Model: \"vgg16\"\n",
      "_________________________________________________________________\n",
      "Layer (type)                 Output Shape              Param #   \n",
      "=================================================================\n",
      "input_1 (InputLayer)         (None, 150, 150, 3)       0         \n",
      "_________________________________________________________________\n",
      "block1_conv1 (Conv2D)        (None, 150, 150, 64)      1792      \n",
      "_________________________________________________________________\n",
      "block1_conv2 (Conv2D)        (None, 150, 150, 64)      36928     \n",
      "_________________________________________________________________\n",
      "block1_pool (MaxPooling2D)   (None, 75, 75, 64)        0         \n",
      "_________________________________________________________________\n",
      "block2_conv1 (Conv2D)        (None, 75, 75, 128)       73856     \n",
      "_________________________________________________________________\n",
      "block2_conv2 (Conv2D)        (None, 75, 75, 128)       147584    \n",
      "_________________________________________________________________\n",
      "block2_pool (MaxPooling2D)   (None, 37, 37, 128)       0         \n",
      "_________________________________________________________________\n",
      "block3_conv1 (Conv2D)        (None, 37, 37, 256)       295168    \n",
      "_________________________________________________________________\n",
      "block3_conv2 (Conv2D)        (None, 37, 37, 256)       590080    \n",
      "_________________________________________________________________\n",
      "block3_conv3 (Conv2D)        (None, 37, 37, 256)       590080    \n",
      "_________________________________________________________________\n",
      "block3_pool (MaxPooling2D)   (None, 18, 18, 256)       0         \n",
      "_________________________________________________________________\n",
      "block4_conv1 (Conv2D)        (None, 18, 18, 512)       1180160   \n",
      "_________________________________________________________________\n",
      "block4_conv2 (Conv2D)        (None, 18, 18, 512)       2359808   \n",
      "_________________________________________________________________\n",
      "block4_conv3 (Conv2D)        (None, 18, 18, 512)       2359808   \n",
      "_________________________________________________________________\n",
      "block4_pool (MaxPooling2D)   (None, 9, 9, 512)         0         \n",
      "_________________________________________________________________\n",
      "block5_conv1 (Conv2D)        (None, 9, 9, 512)         2359808   \n",
      "_________________________________________________________________\n",
      "block5_conv2 (Conv2D)        (None, 9, 9, 512)         2359808   \n",
      "_________________________________________________________________\n",
      "block5_conv3 (Conv2D)        (None, 9, 9, 512)         2359808   \n",
      "_________________________________________________________________\n",
      "block5_pool (MaxPooling2D)   (None, 4, 4, 512)         0         \n",
      "=================================================================\n",
      "Total params: 14,714,688\n",
      "Trainable params: 14,714,688\n",
      "Non-trainable params: 0\n",
      "_________________________________________________________________\n"
     ]
    }
   ],
   "source": [
    "conv_base.summary()"
   ]
  },
  {
   "cell_type": "code",
   "execution_count": 4,
   "metadata": {},
   "outputs": [],
   "source": [
    "import os\n",
    "import numpy as np\n",
    "from keras.preprocessing.image import ImageDataGenerator"
   ]
  },
  {
   "cell_type": "code",
   "execution_count": 5,
   "metadata": {},
   "outputs": [],
   "source": [
    "base_dir = r\"/data/bitt/wzq/wzq/python-deep-learning/data/cats_and_dogs_small\""
   ]
  },
  {
   "cell_type": "code",
   "execution_count": 6,
   "metadata": {},
   "outputs": [],
   "source": [
    "train_dir = os.path.join(base_dir, 'train')\n",
    "validation_dir = os.path.join(base_dir, 'validation')\n",
    "test_dir = os.path.join(base_dir, 'test')"
   ]
  },
  {
   "cell_type": "code",
   "execution_count": 7,
   "metadata": {},
   "outputs": [],
   "source": [
    "datagen = ImageDataGenerator(rescale=1./255)\n",
    "batch_size = 20"
   ]
  },
  {
   "cell_type": "code",
   "execution_count": 8,
   "metadata": {},
   "outputs": [],
   "source": [
    "def extract_feature(directory, sample_count):\n",
    "    features = np.zeros(shape=(sample_count, 4, 4, 512))\n",
    "    labels = np.zeros(shape=(sample_count))\n",
    "    generator = datagen.flow_from_directory(directory, target_size=(150, 150), batch_size=batch_size,\n",
    "                                            class_mode='binary')\n",
    "    i = 0\n",
    "    for input_batch, labels_batch in generator:\n",
    "        print(input_batch.shape)\n",
    "        features_batch = conv_base.predict(input_batch)\n",
    "        features[i * batch_size: (i+1) * batch_size] = features_batch\n",
    "        labels[i * batch_size: (i+1) * batch_size] = labels_batch\n",
    "        i += 1\n",
    "        if i * batch_size >= sample_count:\n",
    "            break\n",
    "    return features, labels"
   ]
  },
  {
   "cell_type": "code",
   "execution_count": 9,
   "metadata": {},
   "outputs": [
    {
     "name": "stdout",
     "output_type": "stream",
     "text": [
      "Found 2000 images belonging to 2 classes.\n",
      "(20, 150, 150, 3)\n",
      "WARNING:tensorflow:From /data/bitt/wzq/anaconda3/envs/tf_gpu/lib/python3.7/site-packages/keras/backend/tensorflow_backend.py:422: The name tf.global_variables is deprecated. Please use tf.compat.v1.global_variables instead.\n",
      "\n",
      "(20, 150, 150, 3)\n",
      "(20, 150, 150, 3)\n",
      "(20, 150, 150, 3)\n",
      "(20, 150, 150, 3)\n",
      "(20, 150, 150, 3)\n",
      "(20, 150, 150, 3)\n",
      "(20, 150, 150, 3)\n",
      "(20, 150, 150, 3)\n",
      "(20, 150, 150, 3)\n",
      "(20, 150, 150, 3)\n",
      "(20, 150, 150, 3)\n",
      "(20, 150, 150, 3)\n",
      "(20, 150, 150, 3)\n",
      "(20, 150, 150, 3)\n",
      "(20, 150, 150, 3)\n",
      "(20, 150, 150, 3)\n",
      "(20, 150, 150, 3)\n",
      "(20, 150, 150, 3)\n",
      "(20, 150, 150, 3)\n",
      "(20, 150, 150, 3)\n",
      "(20, 150, 150, 3)\n",
      "(20, 150, 150, 3)\n",
      "(20, 150, 150, 3)\n",
      "(20, 150, 150, 3)\n",
      "(20, 150, 150, 3)\n",
      "(20, 150, 150, 3)\n",
      "(20, 150, 150, 3)\n",
      "(20, 150, 150, 3)\n",
      "(20, 150, 150, 3)\n",
      "(20, 150, 150, 3)\n",
      "(20, 150, 150, 3)\n",
      "(20, 150, 150, 3)\n",
      "(20, 150, 150, 3)\n",
      "(20, 150, 150, 3)\n",
      "(20, 150, 150, 3)\n",
      "(20, 150, 150, 3)\n",
      "(20, 150, 150, 3)\n",
      "(20, 150, 150, 3)\n",
      "(20, 150, 150, 3)\n",
      "(20, 150, 150, 3)\n",
      "(20, 150, 150, 3)\n",
      "(20, 150, 150, 3)\n",
      "(20, 150, 150, 3)\n",
      "(20, 150, 150, 3)\n",
      "(20, 150, 150, 3)\n",
      "(20, 150, 150, 3)\n",
      "(20, 150, 150, 3)\n",
      "(20, 150, 150, 3)\n",
      "(20, 150, 150, 3)\n",
      "(20, 150, 150, 3)\n",
      "(20, 150, 150, 3)\n",
      "(20, 150, 150, 3)\n",
      "(20, 150, 150, 3)\n",
      "(20, 150, 150, 3)\n",
      "(20, 150, 150, 3)\n",
      "(20, 150, 150, 3)\n",
      "(20, 150, 150, 3)\n",
      "(20, 150, 150, 3)\n",
      "(20, 150, 150, 3)\n",
      "(20, 150, 150, 3)\n",
      "(20, 150, 150, 3)\n",
      "(20, 150, 150, 3)\n",
      "(20, 150, 150, 3)\n",
      "(20, 150, 150, 3)\n",
      "(20, 150, 150, 3)\n",
      "(20, 150, 150, 3)\n",
      "(20, 150, 150, 3)\n",
      "(20, 150, 150, 3)\n",
      "(20, 150, 150, 3)\n",
      "(20, 150, 150, 3)\n",
      "(20, 150, 150, 3)\n",
      "(20, 150, 150, 3)\n",
      "(20, 150, 150, 3)\n",
      "(20, 150, 150, 3)\n",
      "(20, 150, 150, 3)\n",
      "(20, 150, 150, 3)\n",
      "(20, 150, 150, 3)\n",
      "(20, 150, 150, 3)\n",
      "(20, 150, 150, 3)\n",
      "(20, 150, 150, 3)\n",
      "(20, 150, 150, 3)\n",
      "(20, 150, 150, 3)\n",
      "(20, 150, 150, 3)\n",
      "(20, 150, 150, 3)\n",
      "(20, 150, 150, 3)\n",
      "(20, 150, 150, 3)\n",
      "(20, 150, 150, 3)\n",
      "(20, 150, 150, 3)\n",
      "(20, 150, 150, 3)\n",
      "(20, 150, 150, 3)\n",
      "(20, 150, 150, 3)\n",
      "(20, 150, 150, 3)\n",
      "(20, 150, 150, 3)\n",
      "(20, 150, 150, 3)\n",
      "(20, 150, 150, 3)\n",
      "(20, 150, 150, 3)\n",
      "(20, 150, 150, 3)\n",
      "(20, 150, 150, 3)\n",
      "(20, 150, 150, 3)\n"
     ]
    }
   ],
   "source": [
    "train_features, train_labels = extract_feature(train_dir, 2000)"
   ]
  },
  {
   "cell_type": "code",
   "execution_count": 10,
   "metadata": {},
   "outputs": [
    {
     "name": "stdout",
     "output_type": "stream",
     "text": [
      "Found 1000 images belonging to 2 classes.\n",
      "(20, 150, 150, 3)\n",
      "(20, 150, 150, 3)\n",
      "(20, 150, 150, 3)\n",
      "(20, 150, 150, 3)\n",
      "(20, 150, 150, 3)\n",
      "(20, 150, 150, 3)\n",
      "(20, 150, 150, 3)\n",
      "(20, 150, 150, 3)\n",
      "(20, 150, 150, 3)\n",
      "(20, 150, 150, 3)\n",
      "(20, 150, 150, 3)\n",
      "(20, 150, 150, 3)\n",
      "(20, 150, 150, 3)\n",
      "(20, 150, 150, 3)\n",
      "(20, 150, 150, 3)\n",
      "(20, 150, 150, 3)\n",
      "(20, 150, 150, 3)\n",
      "(20, 150, 150, 3)\n",
      "(20, 150, 150, 3)\n",
      "(20, 150, 150, 3)\n",
      "(20, 150, 150, 3)\n",
      "(20, 150, 150, 3)\n",
      "(20, 150, 150, 3)\n",
      "(20, 150, 150, 3)\n",
      "(20, 150, 150, 3)\n",
      "(20, 150, 150, 3)\n",
      "(20, 150, 150, 3)\n",
      "(20, 150, 150, 3)\n",
      "(20, 150, 150, 3)\n",
      "(20, 150, 150, 3)\n",
      "(20, 150, 150, 3)\n",
      "(20, 150, 150, 3)\n",
      "(20, 150, 150, 3)\n",
      "(20, 150, 150, 3)\n",
      "(20, 150, 150, 3)\n",
      "(20, 150, 150, 3)\n",
      "(20, 150, 150, 3)\n",
      "(20, 150, 150, 3)\n",
      "(20, 150, 150, 3)\n",
      "(20, 150, 150, 3)\n",
      "(20, 150, 150, 3)\n",
      "(20, 150, 150, 3)\n",
      "(20, 150, 150, 3)\n",
      "(20, 150, 150, 3)\n",
      "(20, 150, 150, 3)\n",
      "(20, 150, 150, 3)\n",
      "(20, 150, 150, 3)\n",
      "(20, 150, 150, 3)\n",
      "(20, 150, 150, 3)\n",
      "(20, 150, 150, 3)\n"
     ]
    }
   ],
   "source": [
    "validation_features, validation_labels = extract_feature(validation_dir, 1000)"
   ]
  },
  {
   "cell_type": "code",
   "execution_count": 11,
   "metadata": {},
   "outputs": [
    {
     "name": "stdout",
     "output_type": "stream",
     "text": [
      "Found 1000 images belonging to 2 classes.\n",
      "(20, 150, 150, 3)\n",
      "(20, 150, 150, 3)\n",
      "(20, 150, 150, 3)\n",
      "(20, 150, 150, 3)\n",
      "(20, 150, 150, 3)\n",
      "(20, 150, 150, 3)\n",
      "(20, 150, 150, 3)\n",
      "(20, 150, 150, 3)\n",
      "(20, 150, 150, 3)\n",
      "(20, 150, 150, 3)\n",
      "(20, 150, 150, 3)\n",
      "(20, 150, 150, 3)\n",
      "(20, 150, 150, 3)\n",
      "(20, 150, 150, 3)\n",
      "(20, 150, 150, 3)\n",
      "(20, 150, 150, 3)\n",
      "(20, 150, 150, 3)\n",
      "(20, 150, 150, 3)\n",
      "(20, 150, 150, 3)\n",
      "(20, 150, 150, 3)\n",
      "(20, 150, 150, 3)\n",
      "(20, 150, 150, 3)\n",
      "(20, 150, 150, 3)\n",
      "(20, 150, 150, 3)\n",
      "(20, 150, 150, 3)\n",
      "(20, 150, 150, 3)\n",
      "(20, 150, 150, 3)\n",
      "(20, 150, 150, 3)\n",
      "(20, 150, 150, 3)\n",
      "(20, 150, 150, 3)\n",
      "(20, 150, 150, 3)\n",
      "(20, 150, 150, 3)\n",
      "(20, 150, 150, 3)\n",
      "(20, 150, 150, 3)\n",
      "(20, 150, 150, 3)\n",
      "(20, 150, 150, 3)\n",
      "(20, 150, 150, 3)\n",
      "(20, 150, 150, 3)\n",
      "(20, 150, 150, 3)\n",
      "(20, 150, 150, 3)\n",
      "(20, 150, 150, 3)\n",
      "(20, 150, 150, 3)\n",
      "(20, 150, 150, 3)\n",
      "(20, 150, 150, 3)\n",
      "(20, 150, 150, 3)\n",
      "(20, 150, 150, 3)\n",
      "(20, 150, 150, 3)\n",
      "(20, 150, 150, 3)\n",
      "(20, 150, 150, 3)\n",
      "(20, 150, 150, 3)\n"
     ]
    }
   ],
   "source": [
    "test_features, test_labels = extract_feature(test_dir, 1000)"
   ]
  },
  {
   "cell_type": "code",
   "execution_count": 12,
   "metadata": {},
   "outputs": [],
   "source": [
    "train_features = np.reshape(train_features, (2000, 4 * 4 * 512))\n",
    "validation_features = np.reshape(validation_features, (1000, 4 * 4 * 512))\n",
    "test_features = np.reshape(test_features, (1000, 4 * 4 * 512))"
   ]
  },
  {
   "cell_type": "code",
   "execution_count": 13,
   "metadata": {},
   "outputs": [],
   "source": [
    "from keras import models\n",
    "from keras import layers\n",
    "from keras import optimizers"
   ]
  },
  {
   "cell_type": "code",
   "execution_count": 14,
   "metadata": {},
   "outputs": [
    {
     "name": "stdout",
     "output_type": "stream",
     "text": [
      "WARNING:tensorflow:From /data/bitt/wzq/anaconda3/envs/tf_gpu/lib/python3.7/site-packages/tensorflow/python/ops/nn_impl.py:180: add_dispatch_support.<locals>.wrapper (from tensorflow.python.ops.array_ops) is deprecated and will be removed in a future version.\n",
      "Instructions for updating:\n",
      "Use tf.where in 2.0, which has the same broadcast rule as np.where\n"
     ]
    }
   ],
   "source": [
    "model = models.Sequential()\n",
    "model.add(layers.Dense(256, activation='relu', input_dim=4 * 4 * 512))\n",
    "model.add(layers.Dropout(0.5))\n",
    "model.add(layers.Dense(1, activation='sigmoid'))\n",
    "model.compile(optimizer=optimizers.RMSprop(2e-5),\n",
    "              loss='binary_crossentropy',\n",
    "              metrics=['acc'])"
   ]
  },
  {
   "cell_type": "code",
   "execution_count": 15,
   "metadata": {},
   "outputs": [
    {
     "name": "stdout",
     "output_type": "stream",
     "text": [
      "Train on 2000 samples, validate on 1000 samples\n",
      "Epoch 1/30\n",
      "2000/2000 [==============================] - 2s 763us/step - loss: 0.6324 - acc: 0.6305 - val_loss: 0.4703 - val_acc: 0.8110\n",
      "Epoch 2/30\n",
      "2000/2000 [==============================] - 1s 572us/step - loss: 0.4417 - acc: 0.7925 - val_loss: 0.3688 - val_acc: 0.8710\n",
      "Epoch 3/30\n",
      "2000/2000 [==============================] - 2s 802us/step - loss: 0.3591 - acc: 0.8455 - val_loss: 0.3287 - val_acc: 0.8780\n",
      "Epoch 4/30\n",
      "2000/2000 [==============================] - 2s 876us/step - loss: 0.3222 - acc: 0.8605 - val_loss: 0.3027 - val_acc: 0.8940\n",
      "Epoch 5/30\n",
      "2000/2000 [==============================] - 2s 857us/step - loss: 0.2895 - acc: 0.8840 - val_loss: 0.2847 - val_acc: 0.8940\n",
      "Epoch 6/30\n",
      "2000/2000 [==============================] - 2s 839us/step - loss: 0.2628 - acc: 0.8950 - val_loss: 0.2768 - val_acc: 0.8960\n",
      "Epoch 7/30\n",
      "2000/2000 [==============================] - 2s 854us/step - loss: 0.2476 - acc: 0.9075 - val_loss: 0.2654 - val_acc: 0.9020\n",
      "Epoch 8/30\n",
      "2000/2000 [==============================] - 2s 876us/step - loss: 0.2283 - acc: 0.9100 - val_loss: 0.2580 - val_acc: 0.9030\n",
      "Epoch 9/30\n",
      "2000/2000 [==============================] - 2s 810us/step - loss: 0.2206 - acc: 0.9165 - val_loss: 0.2563 - val_acc: 0.8990\n",
      "Epoch 10/30\n",
      "2000/2000 [==============================] - 2s 799us/step - loss: 0.2072 - acc: 0.9245 - val_loss: 0.2513 - val_acc: 0.9010\n",
      "Epoch 11/30\n",
      "2000/2000 [==============================] - 2s 877us/step - loss: 0.1910 - acc: 0.9280 - val_loss: 0.2459 - val_acc: 0.9060\n",
      "Epoch 12/30\n",
      "2000/2000 [==============================] - 2s 839us/step - loss: 0.1888 - acc: 0.9310 - val_loss: 0.2546 - val_acc: 0.8950\n",
      "Epoch 13/30\n",
      "2000/2000 [==============================] - 2s 875us/step - loss: 0.1727 - acc: 0.9380 - val_loss: 0.2400 - val_acc: 0.9030\n",
      "Epoch 14/30\n",
      "2000/2000 [==============================] - 2s 902us/step - loss: 0.1658 - acc: 0.9405 - val_loss: 0.2471 - val_acc: 0.9010\n",
      "Epoch 15/30\n",
      "2000/2000 [==============================] - 2s 881us/step - loss: 0.1580 - acc: 0.9460 - val_loss: 0.2417 - val_acc: 0.9060\n",
      "Epoch 16/30\n",
      "2000/2000 [==============================] - 2s 882us/step - loss: 0.1526 - acc: 0.9485 - val_loss: 0.2408 - val_acc: 0.9030\n",
      "Epoch 17/30\n",
      "2000/2000 [==============================] - 2s 806us/step - loss: 0.1481 - acc: 0.9485 - val_loss: 0.2383 - val_acc: 0.9040\n",
      "Epoch 18/30\n",
      "2000/2000 [==============================] - 2s 843us/step - loss: 0.1399 - acc: 0.9550 - val_loss: 0.2346 - val_acc: 0.9030\n",
      "Epoch 19/30\n",
      "2000/2000 [==============================] - 2s 895us/step - loss: 0.1353 - acc: 0.9520 - val_loss: 0.2383 - val_acc: 0.9040\n",
      "Epoch 20/30\n",
      "2000/2000 [==============================] - 2s 870us/step - loss: 0.1291 - acc: 0.9575 - val_loss: 0.2346 - val_acc: 0.9040\n",
      "Epoch 21/30\n",
      "2000/2000 [==============================] - 2s 886us/step - loss: 0.1248 - acc: 0.9615 - val_loss: 0.2340 - val_acc: 0.9030\n",
      "Epoch 22/30\n",
      "2000/2000 [==============================] - 2s 851us/step - loss: 0.1198 - acc: 0.9620 - val_loss: 0.2378 - val_acc: 0.9050\n",
      "Epoch 23/30\n",
      "2000/2000 [==============================] - 2s 812us/step - loss: 0.1154 - acc: 0.9645 - val_loss: 0.2389 - val_acc: 0.9030\n",
      "Epoch 24/30\n",
      "2000/2000 [==============================] - 2s 807us/step - loss: 0.1143 - acc: 0.9630 - val_loss: 0.2346 - val_acc: 0.9060\n",
      "Epoch 25/30\n",
      "2000/2000 [==============================] - 2s 861us/step - loss: 0.1078 - acc: 0.9605 - val_loss: 0.2345 - val_acc: 0.9040\n",
      "Epoch 26/30\n",
      "2000/2000 [==============================] - 2s 866us/step - loss: 0.0991 - acc: 0.9695 - val_loss: 0.2370 - val_acc: 0.9030\n",
      "Epoch 27/30\n",
      "2000/2000 [==============================] - 2s 832us/step - loss: 0.0975 - acc: 0.9695 - val_loss: 0.2377 - val_acc: 0.9040\n",
      "Epoch 28/30\n",
      "2000/2000 [==============================] - 2s 889us/step - loss: 0.0965 - acc: 0.9705 - val_loss: 0.2550 - val_acc: 0.8980\n",
      "Epoch 29/30\n",
      "2000/2000 [==============================] - 2s 824us/step - loss: 0.0902 - acc: 0.9710 - val_loss: 0.2366 - val_acc: 0.9050\n",
      "Epoch 30/30\n",
      "2000/2000 [==============================] - 2s 888us/step - loss: 0.0848 - acc: 0.9750 - val_loss: 0.2380 - val_acc: 0.9040\n"
     ]
    }
   ],
   "source": [
    "history = model.fit(train_features, train_labels,\n",
    "                    epochs=30,\n",
    "                    batch_size=20,\n",
    "                    validation_data=(validation_features, validation_labels))"
   ]
  },
  {
   "cell_type": "code",
   "execution_count": 16,
   "metadata": {},
   "outputs": [],
   "source": [
    "model.save('cats_and_dogs_small.h5')"
   ]
  },
  {
   "cell_type": "code",
   "execution_count": 17,
   "metadata": {},
   "outputs": [],
   "source": [
    "acc = history.history['acc']\n",
    "val_acc = history.history['val_acc']\n",
    "loss = history.history['loss']\n",
    "val_loss = history.history['val_loss']"
   ]
  },
  {
   "cell_type": "code",
   "execution_count": 18,
   "metadata": {},
   "outputs": [],
   "source": [
    "epoches = range(1, len(acc) + 1)"
   ]
  },
  {
   "cell_type": "code",
   "execution_count": 19,
   "metadata": {},
   "outputs": [],
   "source": [
    "import matplotlib.pyplot as plt"
   ]
  },
  {
   "cell_type": "code",
   "execution_count": 20,
   "metadata": {
    "scrolled": true
   },
   "outputs": [
    {
     "data": {
      "text/plain": [
       "<Figure size 432x288 with 0 Axes>"
      ]
     },
     "execution_count": 20,
     "metadata": {},
     "output_type": "execute_result"
    },
    {
     "data": {
      "image/png": "[encoded data removed]",
      "text/plain": [
       "<Figure size 432x288 with 1 Axes>"
      ]
     },
     "metadata": {
      "needs_background": "light"
     },
     "output_type": "display_data"
    },
    {
     "data": {
      "text/plain": [
       "<Figure size 432x288 with 0 Axes>"
      ]
     },
     "metadata": {},
     "output_type": "display_data"
    }
   ],
   "source": [
    "plt.plot(epoches, acc, 'bo', label=\"Training acc\")\n",
    "plt.plot(epoches, val_acc, 'b', label=\"Validation acc\")\n",
    "plt.title(\"Training and Validation acc\")\n",
    "plt.legend()\n",
    "\n",
    "plt.figure()\n"
   ]
  },
  {
   "cell_type": "code",
   "execution_count": 21,
   "metadata": {},
   "outputs": [
    {
     "data": {
      "image/png": "[encoded data removed]",
      "text/plain": [
       "<Figure size 432x288 with 1 Axes>"
      ]
     },
     "metadata": {
      "needs_background": "light"
     },
     "output_type": "display_data"
    }
   ],
   "source": [
    "plt.plot(epoches, loss, 'bo', label=\"Training loss\")\n",
    "plt.plot(epoches, val_loss, 'b', label=\"Validation loss\")\n",
    "plt.title(\"Training and Validation loss\")\n",
    "plt.legend()\n",
    "plt.show()"
   ]
  },
  {
   "cell_type": "code",
   "execution_count": null,
   "metadata": {},
   "outputs": [],
   "source": []
  }
 ],
 "metadata": {
  "kernelspec": {
   "display_name": "tf_gpu",
   "language": "python",
   "name": "tf_gpu"
  },
  "language_info": {
   "codemirror_mode": {
    "name": "ipython",
    "version": 3
   },
   "file_extension": ".py",
   "mimetype": "text/x-python",
   "name": "python",
   "nbconvert_exporter": "python",
   "pygments_lexer": "ipython3",
   "version": "3.7.9"
  }
 },
 "nbformat": 4,
 "nbformat_minor": 2
}
