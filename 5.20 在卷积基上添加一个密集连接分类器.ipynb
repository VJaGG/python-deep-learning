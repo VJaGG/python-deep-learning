{
 "cells": [
  {
   "cell_type": "code",
   "execution_count": 1,
   "metadata": {},
   "outputs": [
    {
     "name": "stderr",
     "output_type": "stream",
     "text": [
      "Using TensorFlow backend.\n",
      "/data/bitt/wzq/anaconda3/envs/tf_gpu/lib/python3.7/site-packages/tensorflow/python/framework/dtypes.py:516: FutureWarning: Passing (type, 1) or '1type' as a synonym of type is deprecated; in a future version of numpy, it will be understood as (type, (1,)) / '(1,)type'.\n",
      "  _np_qint8 = np.dtype([(\"qint8\", np.int8, 1)])\n",
      "/data/bitt/wzq/anaconda3/envs/tf_gpu/lib/python3.7/site-packages/tensorflow/python/framework/dtypes.py:517: FutureWarning: Passing (type, 1) or '1type' as a synonym of type is deprecated; in a future version of numpy, it will be understood as (type, (1,)) / '(1,)type'.\n",
      "  _np_quint8 = np.dtype([(\"quint8\", np.uint8, 1)])\n",
      "/data/bitt/wzq/anaconda3/envs/tf_gpu/lib/python3.7/site-packages/tensorflow/python/framework/dtypes.py:518: FutureWarning: Passing (type, 1) or '1type' as a synonym of type is deprecated; in a future version of numpy, it will be understood as (type, (1,)) / '(1,)type'.\n",
      "  _np_qint16 = np.dtype([(\"qint16\", np.int16, 1)])\n",
      "/data/bitt/wzq/anaconda3/envs/tf_gpu/lib/python3.7/site-packages/tensorflow/python/framework/dtypes.py:519: FutureWarning: Passing (type, 1) or '1type' as a synonym of type is deprecated; in a future version of numpy, it will be understood as (type, (1,)) / '(1,)type'.\n",
      "  _np_quint16 = np.dtype([(\"quint16\", np.uint16, 1)])\n",
      "/data/bitt/wzq/anaconda3/envs/tf_gpu/lib/python3.7/site-packages/tensorflow/python/framework/dtypes.py:520: FutureWarning: Passing (type, 1) or '1type' as a synonym of type is deprecated; in a future version of numpy, it will be understood as (type, (1,)) / '(1,)type'.\n",
      "  _np_qint32 = np.dtype([(\"qint32\", np.int32, 1)])\n",
      "/data/bitt/wzq/anaconda3/envs/tf_gpu/lib/python3.7/site-packages/tensorflow/python/framework/dtypes.py:525: FutureWarning: Passing (type, 1) or '1type' as a synonym of type is deprecated; in a future version of numpy, it will be understood as (type, (1,)) / '(1,)type'.\n",
      "  np_resource = np.dtype([(\"resource\", np.ubyte, 1)])\n",
      "/data/bitt/wzq/anaconda3/envs/tf_gpu/lib/python3.7/site-packages/tensorboard/compat/tensorflow_stub/dtypes.py:541: FutureWarning: Passing (type, 1) or '1type' as a synonym of type is deprecated; in a future version of numpy, it will be understood as (type, (1,)) / '(1,)type'.\n",
      "  _np_qint8 = np.dtype([(\"qint8\", np.int8, 1)])\n",
      "/data/bitt/wzq/anaconda3/envs/tf_gpu/lib/python3.7/site-packages/tensorboard/compat/tensorflow_stub/dtypes.py:542: FutureWarning: Passing (type, 1) or '1type' as a synonym of type is deprecated; in a future version of numpy, it will be understood as (type, (1,)) / '(1,)type'.\n",
      "  _np_quint8 = np.dtype([(\"quint8\", np.uint8, 1)])\n",
      "/data/bitt/wzq/anaconda3/envs/tf_gpu/lib/python3.7/site-packages/tensorboard/compat/tensorflow_stub/dtypes.py:543: FutureWarning: Passing (type, 1) or '1type' as a synonym of type is deprecated; in a future version of numpy, it will be understood as (type, (1,)) / '(1,)type'.\n",
      "  _np_qint16 = np.dtype([(\"qint16\", np.int16, 1)])\n",
      "/data/bitt/wzq/anaconda3/envs/tf_gpu/lib/python3.7/site-packages/tensorboard/compat/tensorflow_stub/dtypes.py:544: FutureWarning: Passing (type, 1) or '1type' as a synonym of type is deprecated; in a future version of numpy, it will be understood as (type, (1,)) / '(1,)type'.\n",
      "  _np_quint16 = np.dtype([(\"quint16\", np.uint16, 1)])\n",
      "/data/bitt/wzq/anaconda3/envs/tf_gpu/lib/python3.7/site-packages/tensorboard/compat/tensorflow_stub/dtypes.py:545: FutureWarning: Passing (type, 1) or '1type' as a synonym of type is deprecated; in a future version of numpy, it will be understood as (type, (1,)) / '(1,)type'.\n",
      "  _np_qint32 = np.dtype([(\"qint32\", np.int32, 1)])\n",
      "/data/bitt/wzq/anaconda3/envs/tf_gpu/lib/python3.7/site-packages/tensorboard/compat/tensorflow_stub/dtypes.py:550: FutureWarning: Passing (type, 1) or '1type' as a synonym of type is deprecated; in a future version of numpy, it will be understood as (type, (1,)) / '(1,)type'.\n",
      "  np_resource = np.dtype([(\"resource\", np.ubyte, 1)])\n"
     ]
    }
   ],
   "source": [
    "import os\n",
    "os.environ['CUDA_VISIBLE_DEVICES'] = '7'\n",
    "from keras import models\n",
    "from keras import layers\n",
    "from keras.applications import VGG16"
   ]
  },
  {
   "cell_type": "code",
   "execution_count": 2,
   "metadata": {},
   "outputs": [
    {
     "name": "stdout",
     "output_type": "stream",
     "text": [
      "WARNING:tensorflow:From /data/bitt/wzq/anaconda3/envs/tf_gpu/lib/python3.7/site-packages/keras/backend/tensorflow_backend.py:4070: The name tf.nn.max_pool is deprecated. Please use tf.nn.max_pool2d instead.\n",
      "\n"
     ]
    }
   ],
   "source": [
    "conv_base = VGG16(weights='imagenet',\n",
    "                  include_top=False,\n",
    "                  input_shape=(150, 150, 3))\n",
    "model = models.Sequential()\n",
    "model.add(conv_base)\n",
    "model.add(layers.Flatten())\n",
    "model.add(layers.Dense(256, activation='relu'))\n",
    "model.add(layers.Dense(1, activation='sigmoid'))"
   ]
  },
  {
   "cell_type": "code",
   "execution_count": 3,
   "metadata": {},
   "outputs": [
    {
     "name": "stdout",
     "output_type": "stream",
     "text": [
      "This is the number of trainable weights before freezing the conv base: 30\n"
     ]
    }
   ],
   "source": [
    "print('This is the number of trainable weights ' 'before freezing the conv base:', len(model.trainable_weights))"
   ]
  },
  {
   "cell_type": "code",
   "execution_count": 4,
   "metadata": {},
   "outputs": [
    {
     "name": "stdout",
     "output_type": "stream",
     "text": [
      "This is the number of trainable weights after freezing the conv base: 4\n"
     ]
    }
   ],
   "source": [
    "conv_base.trainable = False\n",
    "print('This is the number of trainable weights ' 'after freezing the conv base:', len(model.trainable_weights))"
   ]
  },
  {
   "cell_type": "code",
   "execution_count": 5,
   "metadata": {},
   "outputs": [
    {
     "name": "stdout",
     "output_type": "stream",
     "text": [
      "Model: \"sequential_1\"\n",
      "_________________________________________________________________\n",
      "Layer (type)                 Output Shape              Param #   \n",
      "=================================================================\n",
      "vgg16 (Model)                (None, 4, 4, 512)         14714688  \n",
      "_________________________________________________________________\n",
      "flatten_1 (Flatten)          (None, 8192)              0         \n",
      "_________________________________________________________________\n",
      "dense_1 (Dense)              (None, 256)               2097408   \n",
      "_________________________________________________________________\n",
      "dense_2 (Dense)              (None, 1)                 257       \n",
      "=================================================================\n",
      "Total params: 16,812,353\n",
      "Trainable params: 2,097,665\n",
      "Non-trainable params: 14,714,688\n",
      "_________________________________________________________________\n"
     ]
    }
   ],
   "source": [
    "model.summary()"
   ]
  },
  {
   "cell_type": "code",
   "execution_count": 6,
   "metadata": {},
   "outputs": [],
   "source": [
    "from keras.preprocessing.image import ImageDataGenerator\n",
    "from keras import optimizers"
   ]
  },
  {
   "cell_type": "code",
   "execution_count": 7,
   "metadata": {},
   "outputs": [],
   "source": [
    "train_datagen = ImageDataGenerator(\n",
    "                                   rescale=1./255,\n",
    "                                   rotation_range=40,\n",
    "                                   width_shift_range=0.2,\n",
    "                                   height_shift_range=0.2,\n",
    "                                   shear_range=0.2,\n",
    "                                   zoom_range=0.2,\n",
    "                                   horizontal_flip=True,\n",
    "                                   fill_mode='nearest')"
   ]
  },
  {
   "cell_type": "code",
   "execution_count": 8,
   "metadata": {},
   "outputs": [],
   "source": [
    "test_datagen = ImageDataGenerator(rescale=1./255)"
   ]
  },
  {
   "cell_type": "code",
   "execution_count": 9,
   "metadata": {},
   "outputs": [],
   "source": [
    "base_dir = r\"/data/bitt/wzq/wzq/python-deep-learning/data/cats_and_dogs_small\"\n",
    "train_dir = os.path.join(base_dir, 'train')\n",
    "validation_dir = os.path.join(base_dir, 'validation')\n",
    "test_dir = os.path.join(base_dir, 'test')"
   ]
  },
  {
   "cell_type": "code",
   "execution_count": 10,
   "metadata": {},
   "outputs": [
    {
     "name": "stdout",
     "output_type": "stream",
     "text": [
      "Found 2000 images belonging to 2 classes.\n",
      "Found 1000 images belonging to 2 classes.\n"
     ]
    }
   ],
   "source": [
    "train_generator = train_datagen.flow_from_directory(train_dir, target_size=(150, 150), batch_size=20, class_mode='binary')\n",
    "validation_generator = test_datagen.flow_from_directory(validation_dir, target_size=(150, 150), batch_size=20, class_mode='binary')"
   ]
  },
  {
   "cell_type": "code",
   "execution_count": 11,
   "metadata": {},
   "outputs": [
    {
     "name": "stdout",
     "output_type": "stream",
     "text": [
      "WARNING:tensorflow:From /data/bitt/wzq/anaconda3/envs/tf_gpu/lib/python3.7/site-packages/tensorflow/python/ops/nn_impl.py:180: add_dispatch_support.<locals>.wrapper (from tensorflow.python.ops.array_ops) is deprecated and will be removed in a future version.\n",
      "Instructions for updating:\n",
      "Use tf.where in 2.0, which has the same broadcast rule as np.where\n"
     ]
    }
   ],
   "source": [
    "model.compile(loss='binary_crossentropy',\n",
    "              optimizer=optimizers.RMSprop(lr=2e-5),\n",
    "              metrics=['acc'])"
   ]
  },
  {
   "cell_type": "code",
   "execution_count": 12,
   "metadata": {},
   "outputs": [
    {
     "name": "stdout",
     "output_type": "stream",
     "text": [
      "WARNING:tensorflow:From /data/bitt/wzq/anaconda3/envs/tf_gpu/lib/python3.7/site-packages/keras/backend/tensorflow_backend.py:422: The name tf.global_variables is deprecated. Please use tf.compat.v1.global_variables instead.\n",
      "\n",
      "Epoch 1/30\n",
      "100/100 [==============================] - 54s 539ms/step - loss: 0.5871 - acc: 0.6980 - val_loss: 0.4457 - val_acc: 0.8220\n",
      "Epoch 2/30\n",
      "100/100 [==============================] - 53s 534ms/step - loss: 0.4758 - acc: 0.7835 - val_loss: 0.3020 - val_acc: 0.8530\n",
      "Epoch 3/30\n",
      "100/100 [==============================] - 54s 537ms/step - loss: 0.4197 - acc: 0.8190 - val_loss: 0.4296 - val_acc: 0.8660\n",
      "Epoch 4/30\n",
      "100/100 [==============================] - 53s 535ms/step - loss: 0.4016 - acc: 0.8220 - val_loss: 0.4213 - val_acc: 0.8730\n",
      "Epoch 5/30\n",
      "100/100 [==============================] - 53s 533ms/step - loss: 0.3768 - acc: 0.8460 - val_loss: 0.4318 - val_acc: 0.8810\n",
      "Epoch 6/30\n",
      "100/100 [==============================] - 53s 531ms/step - loss: 0.3580 - acc: 0.8485 - val_loss: 0.1294 - val_acc: 0.8870\n",
      "Epoch 7/30\n",
      "100/100 [==============================] - 53s 532ms/step - loss: 0.3465 - acc: 0.8550 - val_loss: 0.1501 - val_acc: 0.8880\n",
      "Epoch 8/30\n",
      "100/100 [==============================] - 53s 532ms/step - loss: 0.3500 - acc: 0.8445 - val_loss: 0.1406 - val_acc: 0.8850\n",
      "Epoch 9/30\n",
      "100/100 [==============================] - 53s 533ms/step - loss: 0.3326 - acc: 0.8615 - val_loss: 0.1233 - val_acc: 0.8870\n",
      "Epoch 10/30\n",
      "100/100 [==============================] - 53s 533ms/step - loss: 0.3377 - acc: 0.8575 - val_loss: 0.4544 - val_acc: 0.8810\n",
      "Epoch 11/30\n",
      "100/100 [==============================] - 53s 533ms/step - loss: 0.3278 - acc: 0.8590 - val_loss: 0.3099 - val_acc: 0.8920\n",
      "Epoch 12/30\n",
      "100/100 [==============================] - 53s 533ms/step - loss: 0.3218 - acc: 0.8575 - val_loss: 0.1208 - val_acc: 0.8970\n",
      "Epoch 13/30\n",
      "100/100 [==============================] - 53s 532ms/step - loss: 0.3076 - acc: 0.8725 - val_loss: 0.2013 - val_acc: 0.8820\n",
      "Epoch 14/30\n",
      "100/100 [==============================] - 53s 533ms/step - loss: 0.3139 - acc: 0.8650 - val_loss: 0.2295 - val_acc: 0.8910\n",
      "Epoch 15/30\n",
      "100/100 [==============================] - 53s 534ms/step - loss: 0.3158 - acc: 0.8575 - val_loss: 0.2805 - val_acc: 0.8920\n",
      "Epoch 16/30\n",
      "100/100 [==============================] - 54s 535ms/step - loss: 0.3005 - acc: 0.8640 - val_loss: 0.1448 - val_acc: 0.8940\n",
      "Epoch 17/30\n",
      "100/100 [==============================] - 53s 534ms/step - loss: 0.2983 - acc: 0.8745 - val_loss: 0.1780 - val_acc: 0.8840\n",
      "Epoch 18/30\n",
      "100/100 [==============================] - 53s 534ms/step - loss: 0.3016 - acc: 0.8715 - val_loss: 0.1570 - val_acc: 0.8950\n",
      "Epoch 19/30\n",
      "100/100 [==============================] - 53s 534ms/step - loss: 0.3051 - acc: 0.8700 - val_loss: 0.1430 - val_acc: 0.8990\n",
      "Epoch 20/30\n",
      "100/100 [==============================] - 54s 536ms/step - loss: 0.3048 - acc: 0.8630 - val_loss: 0.2732 - val_acc: 0.9020\n",
      "Epoch 21/30\n",
      "100/100 [==============================] - 54s 538ms/step - loss: 0.2896 - acc: 0.8750 - val_loss: 0.4057 - val_acc: 0.8870\n",
      "Epoch 22/30\n",
      "100/100 [==============================] - 54s 538ms/step - loss: 0.2951 - acc: 0.8800 - val_loss: 0.4080 - val_acc: 0.8960\n",
      "Epoch 23/30\n",
      "100/100 [==============================] - 54s 535ms/step - loss: 0.2960 - acc: 0.8700 - val_loss: 0.1781 - val_acc: 0.8990\n",
      "Epoch 24/30\n",
      "100/100 [==============================] - 54s 537ms/step - loss: 0.2970 - acc: 0.8680 - val_loss: 0.1742 - val_acc: 0.8990\n",
      "Epoch 25/30\n",
      "100/100 [==============================] - 54s 536ms/step - loss: 0.2914 - acc: 0.8775 - val_loss: 0.6671 - val_acc: 0.8950\n",
      "Epoch 26/30\n",
      "100/100 [==============================] - 53s 532ms/step - loss: 0.2955 - acc: 0.8710 - val_loss: 0.1370 - val_acc: 0.8970\n",
      "Epoch 27/30\n",
      "100/100 [==============================] - 53s 534ms/step - loss: 0.2894 - acc: 0.8760 - val_loss: 0.1300 - val_acc: 0.9000\n",
      "Epoch 28/30\n",
      "100/100 [==============================] - 53s 534ms/step - loss: 0.2850 - acc: 0.8815 - val_loss: 0.4489 - val_acc: 0.9000\n",
      "Epoch 29/30\n",
      "100/100 [==============================] - 53s 535ms/step - loss: 0.2874 - acc: 0.8815 - val_loss: 0.1932 - val_acc: 0.8950\n",
      "Epoch 30/30\n",
      "100/100 [==============================] - 53s 533ms/step - loss: 0.2784 - acc: 0.8815 - val_loss: 0.1032 - val_acc: 0.9000\n"
     ]
    }
   ],
   "source": [
    "history = model.fit_generator(train_generator, steps_per_epoch=100,\n",
    "                              epochs=30, validation_data=validation_generator,\n",
    "                              validation_steps=50) "
   ]
  },
  {
   "cell_type": "code",
   "execution_count": 13,
   "metadata": {},
   "outputs": [],
   "source": [
    "acc = history.history['acc']\n",
    "val_acc = history.history['val_acc']\n",
    "loss = history.history['loss']\n",
    "val_loss = history.history['val_loss']"
   ]
  },
  {
   "cell_type": "code",
   "execution_count": 14,
   "metadata": {},
   "outputs": [],
   "source": [
    "epoches = range(1, len(acc) + 1)"
   ]
  },
  {
   "cell_type": "code",
   "execution_count": 15,
   "metadata": {},
   "outputs": [],
   "source": [
    "import matplotlib.pyplot as plt"
   ]
  },
  {
   "cell_type": "code",
   "execution_count": 16,
   "metadata": {},
   "outputs": [
    {
     "data": {
      "text/plain": [
       "<Figure size 432x288 with 0 Axes>"
      ]
     },
     "execution_count": 16,
     "metadata": {},
     "output_type": "execute_result"
    },
    {
     "data": {
      "image/png": "[encoded data removed]",
      "text/plain": [
       "<Figure size 432x288 with 1 Axes>"
      ]
     },
     "metadata": {
      "needs_background": "light"
     },
     "output_type": "display_data"
    },
    {
     "data": {
      "text/plain": [
       "<Figure size 432x288 with 0 Axes>"
      ]
     },
     "metadata": {},
     "output_type": "display_data"
    }
   ],
   "source": [
    "plt.plot(epoches, acc, 'bo', label=\"Training acc\")\n",
    "plt.plot(epoches, val_acc, 'b', label=\"Validation acc\")\n",
    "plt.title(\"Training and Validation acc\")\n",
    "plt.legend()\n",
    "\n",
    "plt.figure()"
   ]
  },
  {
   "cell_type": "code",
   "execution_count": 17,
   "metadata": {},
   "outputs": [
    {
     "data": {
      "image/png": "[encoded data removed]",
      "text/plain": [
       "<Figure size 432x288 with 1 Axes>"
      ]
     },
     "metadata": {
      "needs_background": "light"
     },
     "output_type": "display_data"
    }
   ],
   "source": [
    "plt.plot(epoches, loss, 'bo', label=\"Training loss\")\n",
    "plt.plot(epoches, val_loss, 'b', label=\"Validation loss\")\n",
    "plt.title(\"Training and Validation loss\")\n",
    "plt.legend()\n",
    "plt.show()"
   ]
  },
  {
   "cell_type": "code",
   "execution_count": null,
   "metadata": {},
   "outputs": [],
   "source": []
  }
 ],
 "metadata": {
  "kernelspec": {
   "display_name": "tf_gpu",
   "language": "python",
   "name": "tf_gpu"
  },
  "language_info": {
   "codemirror_mode": {
    "name": "ipython",
    "version": 3
   },
   "file_extension": ".py",
   "mimetype": "text/x-python",
   "name": "python",
   "nbconvert_exporter": "python",
   "pygments_lexer": "ipython3",
   "version": "3.7.9"
  }
 },
 "nbformat": 4,
 "nbformat_minor": 2
}
