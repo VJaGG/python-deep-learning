{
 "cells": [
  {
   "cell_type": "code",
   "execution_count": 1,
   "metadata": {},
   "outputs": [],
   "source": [
    "import os\n",
    "os.environ[\"CUDA_VISIBLE_DEVICES\"] = \"6\"\n",
    "import torch\n",
    "import torch.nn as nn\n",
    "import torch.optim as optim\n",
    "import torch.nn.functional as F\n",
    "import torchvision.datasets as datasets\n",
    "import torchvision.transforms as transforms\n",
    "from utils import AverageMeter, ProgressMeter"
   ]
  },
  {
   "cell_type": "code",
   "execution_count": 2,
   "metadata": {},
   "outputs": [],
   "source": [
    "class Model(nn.Module):\n",
    "    def __init__(self):\n",
    "        super(Model, self).__init__()\n",
    "        self.conv1 = nn.Conv2d(1, 32, kernel_size=3, stride=1)\n",
    "        self.conv2 = nn.Conv2d(32, 64, kernel_size=3, stride=1)\n",
    "        self.conv3 = nn.Conv2d(64, 64, kernel_size=3, stride=1)\n",
    "        self.fc1 = nn.Linear(576, 64)\n",
    "        self.fc2 = nn.Linear(64, 10)\n",
    "    \n",
    "    def forward(self, x):\n",
    "        x = self.conv1(x)\n",
    "        x = F.max_pool2d(x, kernel_size=2)\n",
    "        x = self.conv2(x)\n",
    "        x = F.max_pool2d(x, kernel_size=2)\n",
    "        x = self.conv3(x)\n",
    "        batch, _, _, _ = x.shape\n",
    "        x = x.view(batch, -1)\n",
    "        x = self.fc1(x)\n",
    "        x = self.fc2(x)\n",
    "        return x"
   ]
  },
  {
   "cell_type": "code",
   "execution_count": 3,
   "metadata": {},
   "outputs": [
    {
     "name": "stdout",
     "output_type": "stream",
     "text": [
      "----------------------------------------------------------------\n",
      "        Layer (type)               Output Shape         Param #\n",
      "================================================================\n",
      "            Conv2d-1           [-1, 32, 26, 26]             320\n",
      "            Conv2d-2           [-1, 64, 11, 11]          18,496\n",
      "            Conv2d-3             [-1, 64, 3, 3]          36,928\n",
      "            Linear-4                   [-1, 64]          36,928\n",
      "            Linear-5                   [-1, 10]             650\n",
      "================================================================\n",
      "Total params: 93,322\n",
      "Trainable params: 93,322\n",
      "Non-trainable params: 0\n",
      "----------------------------------------------------------------\n",
      "Input size (MB): 0.00\n",
      "Forward/backward pass size (MB): 0.23\n",
      "Params size (MB): 0.36\n",
      "Estimated Total Size (MB): 0.59\n",
      "----------------------------------------------------------------\n"
     ]
    }
   ],
   "source": [
    "from torchsummary import summary\n",
    "device = torch.device(\"cuda\" if torch.cuda.is_available() else \"cpu\")\n",
    "model = Model().to(device)\n",
    "summary(model, input_size=(1, 28, 28))"
   ]
  },
  {
   "cell_type": "code",
   "execution_count": 4,
   "metadata": {},
   "outputs": [],
   "source": [
    "def accuracy(output, target, topk=(1,)):\n",
    "    with torch.no_grad():\n",
    "        maxk = max(topk)\n",
    "        batch_size = target.size(0)\n",
    "        _, pred = output.topk(maxk, 1, True, True)\n",
    "        pred = pred.t()\n",
    "        correct = pred.eq(target.view(1, -1).expand_as(pred))\n",
    "\n",
    "        res = []\n",
    "        for k in topk:\n",
    "            correct_k = correct[:k].view(-1).float().sum(0, keepdim=True)\n",
    "            res.append(correct_k.mul_(100.0 / batch_size))\n",
    "        return res"
   ]
  },
  {
   "cell_type": "code",
   "execution_count": 5,
   "metadata": {},
   "outputs": [],
   "source": [
    "def train(train_loader, model, optimizer, device, criteria):\n",
    "    losses = AverageMeter(\"Loss\", ':.4e')\n",
    "    top1 = AverageMeter(\"Acc\", \":6.2f\")\n",
    "    progress = ProgressMeter(len(train_loader), losses, top1)\n",
    "    for i, (input, target) in enumerate(train_loader):\n",
    "        input = input.to(device)\n",
    "        batch_size, C, H, W = input.shape\n",
    "        target = target.to(device)\n",
    "        pred = model(input)\n",
    "        loss = criteria(pred, target)\n",
    "        acc = accuracy(pred, target)\n",
    "        losses.update(loss.item(), batch_size)\n",
    "        top1.update(acc[0].item(), batch_size)\n",
    "        optimizer.zero_grad()\n",
    "        loss.backward()\n",
    "        optimizer.step()\n",
    "        if i % 100 == 0:\n",
    "            progress.pr2int(i)\n",
    "    return losses, top1"
   ]
  },
  {
   "cell_type": "code",
   "execution_count": 6,
   "metadata": {},
   "outputs": [],
   "source": [
    "def evaluate(model, device, test_loader):\n",
    "    model.eval()\n",
    "    correct = 0\n",
    "    with torch.no_grad():\n",
    "        for data, target in test_loader:\n",
    "            data, target = data.to(device), target.to(device)\n",
    "            output = model(data)\n",
    "            pred = output.argmax(dim=1, keepdim=True)\n",
    "            correct += pred.eq(target.view_as(pred)).sum().item()\n",
    "    print('Test set: Accuracy: {}/{} ({:.0f}%)'.format(\n",
    "    correct, len(test_loader.dataset),\n",
    "    100. * correct / len(test_loader.dataset)))"
   ]
  },
  {
   "cell_type": "code",
   "execution_count": 7,
   "metadata": {},
   "outputs": [],
   "source": [
    "def main():\n",
    "    transform = transforms.Compose([transforms.ToTensor()])\n",
    "    data_train = datasets.MNIST(\"./data\", transform=transform,\n",
    "                                train=True,\n",
    "                                download=False)\n",
    "    train_loader = torch.utils.data.DataLoader(data_train, batch_size=64, shuffle=False, num_workers=10)\n",
    "    data_test = datasets.MNIST(\"./data/\", transform=transform,\n",
    "                               train=False,\n",
    "                               download=False)\n",
    "    test_loader = torch.utils.data.DataLoader(data_test, batch_size=64,\n",
    "                                              shuffle=False)\n",
    "    device = torch.device(\"cuda\" if torch.cuda.is_available() else \"cpu\")\n",
    "    model = Model().to(device)\n",
    "    criteria = nn.CrossEntropyLoss()\n",
    "    optimizer = optim.RMSprop(model.parameters(), lr=0.001, alpha=0.9, eps=0)\n",
    "    min_loss = 10.0\n",
    "    for epoch in range(5):\n",
    "        losses, top1 = train(train_loader, model, optimizer, device, criteria)\n",
    "        print(losses, top1)\n",
    "        evaluate(model, device, test_loader)\n",
    "    torch.save(model.state_dict(),\n",
    "               'best.pt')\n",
    "    evaluate(model, device, test_loader)"
   ]
  },
  {
   "cell_type": "code",
   "execution_count": 8,
   "metadata": {},
   "outputs": [
    {
     "name": "stdout",
     "output_type": "stream",
     "text": [
      "[  0/938]\tLoss 2.3071e+00 (2.3071e+00)\tAcc   7.81 (  7.81)\n",
      "[100/938]\tLoss 2.2812e-01 (5.2619e-01)\tAcc  92.19 ( 83.66)\n",
      "[200/938]\tLoss 1.2538e-01 (3.9329e-01)\tAcc  95.31 ( 88.11)\n",
      "[300/938]\tLoss 1.7269e-01 (3.1878e-01)\tAcc  95.31 ( 90.29)\n",
      "[400/938]\tLoss 9.9424e-02 (2.6947e-01)\tAcc  95.31 ( 91.74)\n",
      "[500/938]\tLoss 1.2166e-01 (2.4007e-01)\tAcc  96.88 ( 92.64)\n",
      "[600/938]\tLoss 9.6993e-02 (2.1766e-01)\tAcc  98.44 ( 93.35)\n",
      "[700/938]\tLoss 1.5559e-01 (2.0142e-01)\tAcc  96.88 ( 93.83)\n",
      "[800/938]\tLoss 1.4644e-01 (1.8981e-01)\tAcc  95.31 ( 94.16)\n",
      "[900/938]\tLoss 1.1408e-01 (1.7926e-01)\tAcc  96.88 ( 94.49)\n",
      "Loss 9.5981e-02 (1.7582e-01) Acc  93.75 ( 94.62)\n",
      "Test set: Accuracy: 9694/10000 (97%)\n",
      "[  0/938]\tLoss 1.1038e-01 (1.1038e-01)\tAcc  98.44 ( 98.44)\n",
      "[100/938]\tLoss 1.6711e-01 (9.2125e-02)\tAcc  96.88 ( 97.46)\n",
      "[200/938]\tLoss 9.9987e-02 (9.1163e-02)\tAcc  93.75 ( 97.29)\n",
      "[300/938]\tLoss 8.4654e-02 (8.6909e-02)\tAcc  98.44 ( 97.33)\n",
      "[400/938]\tLoss 5.3673e-02 (8.2431e-02)\tAcc  95.31 ( 97.47)\n",
      "[500/938]\tLoss 1.4192e-01 (8.2672e-02)\tAcc  95.31 ( 97.43)\n",
      "[600/938]\tLoss 1.2944e-01 (8.1744e-02)\tAcc  98.44 ( 97.49)\n",
      "[700/938]\tLoss 9.5417e-02 (8.1432e-02)\tAcc  96.88 ( 97.49)\n",
      "[800/938]\tLoss 1.0860e-01 (8.0860e-02)\tAcc  96.88 ( 97.50)\n",
      "[900/938]\tLoss 1.0522e-01 (7.9672e-02)\tAcc  95.31 ( 97.54)\n",
      "Loss 1.9514e-02 (7.8900e-02) Acc 100.00 ( 97.58)\n",
      "Test set: Accuracy: 9752/10000 (98%)\n",
      "[  0/938]\tLoss 4.8369e-02 (4.8369e-02)\tAcc  96.88 ( 96.88)\n",
      "[100/938]\tLoss 1.1575e-01 (7.5648e-02)\tAcc  96.88 ( 97.93)\n",
      "[200/938]\tLoss 8.7811e-02 (7.0884e-02)\tAcc  96.88 ( 97.89)\n",
      "[300/938]\tLoss 4.2495e-02 (6.7339e-02)\tAcc  96.88 ( 97.95)\n",
      "[400/938]\tLoss 3.5215e-02 (6.4092e-02)\tAcc  98.44 ( 98.08)\n",
      "[500/938]\tLoss 1.3502e-01 (6.4689e-02)\tAcc  96.88 ( 98.05)\n",
      "[600/938]\tLoss 1.2668e-01 (6.4182e-02)\tAcc  96.88 ( 98.07)\n",
      "[700/938]\tLoss 4.3954e-02 (6.4606e-02)\tAcc  98.44 ( 98.05)\n",
      "[800/938]\tLoss 1.0748e-01 (6.4417e-02)\tAcc  96.88 ( 98.04)\n",
      "[900/938]\tLoss 8.3765e-02 (6.3704e-02)\tAcc  96.88 ( 98.06)\n",
      "Loss 2.6050e-02 (6.3188e-02) Acc 100.00 ( 98.09)\n",
      "Test set: Accuracy: 9732/10000 (97%)\n",
      "[  0/938]\tLoss 5.3344e-02 (5.3344e-02)\tAcc  98.44 ( 98.44)\n",
      "[100/938]\tLoss 9.4545e-02 (6.4001e-02)\tAcc  96.88 ( 98.36)\n",
      "[200/938]\tLoss 4.2402e-02 (5.9350e-02)\tAcc  96.88 ( 98.35)\n",
      "[300/938]\tLoss 2.3191e-02 (5.5726e-02)\tAcc  98.44 ( 98.43)\n",
      "[400/938]\tLoss 4.5805e-02 (5.3561e-02)\tAcc  98.44 ( 98.47)\n",
      "[500/938]\tLoss 1.4253e-01 (5.4202e-02)\tAcc  96.88 ( 98.44)\n",
      "[600/938]\tLoss 1.1254e-01 (5.4057e-02)\tAcc  98.44 ( 98.44)\n",
      "[700/938]\tLoss 3.0853e-02 (5.4578e-02)\tAcc  98.44 ( 98.42)\n",
      "[800/938]\tLoss 1.3030e-01 (5.4687e-02)\tAcc  96.88 ( 98.41)\n",
      "[900/938]\tLoss 6.1676e-02 (5.4031e-02)\tAcc  96.88 ( 98.41)\n",
      "Loss 1.1045e-02 (5.3620e-02) Acc 100.00 ( 98.43)\n",
      "Test set: Accuracy: 9742/10000 (97%)\n",
      "[  0/938]\tLoss 4.2483e-02 (4.2483e-02)\tAcc  98.44 ( 98.44)\n",
      "[100/938]\tLoss 8.1839e-02 (5.6123e-02)\tAcc  96.88 ( 98.55)\n",
      "[200/938]\tLoss 1.1341e-02 (5.0965e-02)\tAcc 100.00 ( 98.62)\n",
      "[300/938]\tLoss 4.6838e-02 (4.8705e-02)\tAcc  98.44 ( 98.61)\n",
      "[400/938]\tLoss 4.0856e-02 (4.6346e-02)\tAcc  98.44 ( 98.68)\n",
      "[500/938]\tLoss 1.0706e-01 (4.6351e-02)\tAcc  96.88 ( 98.70)\n",
      "[600/938]\tLoss 8.4650e-02 (4.6047e-02)\tAcc  98.44 ( 98.71)\n",
      "[700/938]\tLoss 1.3057e-02 (4.6672e-02)\tAcc 100.00 ( 98.67)\n",
      "[800/938]\tLoss 1.4142e-01 (4.6641e-02)\tAcc  96.88 ( 98.66)\n",
      "[900/938]\tLoss 2.5184e-02 (4.6313e-02)\tAcc  98.44 ( 98.66)\n",
      "Loss 8.7785e-03 (4.6064e-02) Acc 100.00 ( 98.67)\n",
      "Test set: Accuracy: 9732/10000 (97%)\n",
      "Test set: Accuracy: 9732/10000 (97%)\n"
     ]
    }
   ],
   "source": [
    "main()"
   ]
  },
  {
   "cell_type": "code",
   "execution_count": null,
   "metadata": {},
   "outputs": [],
   "source": []
  }
 ],
 "metadata": {
  "kernelspec": {
   "display_name": "Python 3.6.2 64-bit ('pytorch_gpu': conda)",
   "language": "python",
   "name": "python36264bitpytorchgpucondad32ea3e756d94800bb772d25ba7e61ba"
  },
  "language_info": {
   "codemirror_mode": {
    "name": "ipython",
    "version": 3
   },
   "file_extension": ".py",
   "mimetype": "text/x-python",
   "name": "python",
   "nbconvert_exporter": "python",
   "pygments_lexer": "ipython3",
   "version": "3.6.2"
  }
 },
 "nbformat": 4,
 "nbformat_minor": 2
}
