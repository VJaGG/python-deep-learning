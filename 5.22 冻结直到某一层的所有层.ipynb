{
 "cells": [
  {
   "cell_type": "code",
   "execution_count": 1,
   "metadata": {},
   "outputs": [
    {
     "name": "stderr",
     "output_type": "stream",
     "text": [
      "Using TensorFlow backend.\n",
      "/data/bitt/wzq/anaconda3/envs/tf_gpu/lib/python3.7/site-packages/tensorflow/python/framework/dtypes.py:516: FutureWarning: Passing (type, 1) or '1type' as a synonym of type is deprecated; in a future version of numpy, it will be understood as (type, (1,)) / '(1,)type'.\n",
      "  _np_qint8 = np.dtype([(\"qint8\", np.int8, 1)])\n",
      "/data/bitt/wzq/anaconda3/envs/tf_gpu/lib/python3.7/site-packages/tensorflow/python/framework/dtypes.py:517: FutureWarning: Passing (type, 1) or '1type' as a synonym of type is deprecated; in a future version of numpy, it will be understood as (type, (1,)) / '(1,)type'.\n",
      "  _np_quint8 = np.dtype([(\"quint8\", np.uint8, 1)])\n",
      "/data/bitt/wzq/anaconda3/envs/tf_gpu/lib/python3.7/site-packages/tensorflow/python/framework/dtypes.py:518: FutureWarning: Passing (type, 1) or '1type' as a synonym of type is deprecated; in a future version of numpy, it will be understood as (type, (1,)) / '(1,)type'.\n",
      "  _np_qint16 = np.dtype([(\"qint16\", np.int16, 1)])\n",
      "/data/bitt/wzq/anaconda3/envs/tf_gpu/lib/python3.7/site-packages/tensorflow/python/framework/dtypes.py:519: FutureWarning: Passing (type, 1) or '1type' as a synonym of type is deprecated; in a future version of numpy, it will be understood as (type, (1,)) / '(1,)type'.\n",
      "  _np_quint16 = np.dtype([(\"quint16\", np.uint16, 1)])\n",
      "/data/bitt/wzq/anaconda3/envs/tf_gpu/lib/python3.7/site-packages/tensorflow/python/framework/dtypes.py:520: FutureWarning: Passing (type, 1) or '1type' as a synonym of type is deprecated; in a future version of numpy, it will be understood as (type, (1,)) / '(1,)type'.\n",
      "  _np_qint32 = np.dtype([(\"qint32\", np.int32, 1)])\n",
      "/data/bitt/wzq/anaconda3/envs/tf_gpu/lib/python3.7/site-packages/tensorflow/python/framework/dtypes.py:525: FutureWarning: Passing (type, 1) or '1type' as a synonym of type is deprecated; in a future version of numpy, it will be understood as (type, (1,)) / '(1,)type'.\n",
      "  np_resource = np.dtype([(\"resource\", np.ubyte, 1)])\n",
      "/data/bitt/wzq/anaconda3/envs/tf_gpu/lib/python3.7/site-packages/tensorboard/compat/tensorflow_stub/dtypes.py:541: FutureWarning: Passing (type, 1) or '1type' as a synonym of type is deprecated; in a future version of numpy, it will be understood as (type, (1,)) / '(1,)type'.\n",
      "  _np_qint8 = np.dtype([(\"qint8\", np.int8, 1)])\n",
      "/data/bitt/wzq/anaconda3/envs/tf_gpu/lib/python3.7/site-packages/tensorboard/compat/tensorflow_stub/dtypes.py:542: FutureWarning: Passing (type, 1) or '1type' as a synonym of type is deprecated; in a future version of numpy, it will be understood as (type, (1,)) / '(1,)type'.\n",
      "  _np_quint8 = np.dtype([(\"quint8\", np.uint8, 1)])\n",
      "/data/bitt/wzq/anaconda3/envs/tf_gpu/lib/python3.7/site-packages/tensorboard/compat/tensorflow_stub/dtypes.py:543: FutureWarning: Passing (type, 1) or '1type' as a synonym of type is deprecated; in a future version of numpy, it will be understood as (type, (1,)) / '(1,)type'.\n",
      "  _np_qint16 = np.dtype([(\"qint16\", np.int16, 1)])\n",
      "/data/bitt/wzq/anaconda3/envs/tf_gpu/lib/python3.7/site-packages/tensorboard/compat/tensorflow_stub/dtypes.py:544: FutureWarning: Passing (type, 1) or '1type' as a synonym of type is deprecated; in a future version of numpy, it will be understood as (type, (1,)) / '(1,)type'.\n",
      "  _np_quint16 = np.dtype([(\"quint16\", np.uint16, 1)])\n",
      "/data/bitt/wzq/anaconda3/envs/tf_gpu/lib/python3.7/site-packages/tensorboard/compat/tensorflow_stub/dtypes.py:545: FutureWarning: Passing (type, 1) or '1type' as a synonym of type is deprecated; in a future version of numpy, it will be understood as (type, (1,)) / '(1,)type'.\n",
      "  _np_qint32 = np.dtype([(\"qint32\", np.int32, 1)])\n",
      "/data/bitt/wzq/anaconda3/envs/tf_gpu/lib/python3.7/site-packages/tensorboard/compat/tensorflow_stub/dtypes.py:550: FutureWarning: Passing (type, 1) or '1type' as a synonym of type is deprecated; in a future version of numpy, it will be understood as (type, (1,)) / '(1,)type'.\n",
      "  np_resource = np.dtype([(\"resource\", np.ubyte, 1)])\n"
     ]
    }
   ],
   "source": [
    "import os\n",
    "os.environ['CUDA_VISIBLE_DEVICES'] = '2'\n",
    "from keras import models\n",
    "from keras import layers\n",
    "from keras.applications import VGG16"
   ]
  },
  {
   "cell_type": "code",
   "execution_count": 2,
   "metadata": {},
   "outputs": [
    {
     "name": "stdout",
     "output_type": "stream",
     "text": [
      "WARNING:tensorflow:From /data/bitt/wzq/anaconda3/envs/tf_gpu/lib/python3.7/site-packages/keras/backend/tensorflow_backend.py:4070: The name tf.nn.max_pool is deprecated. Please use tf.nn.max_pool2d instead.\n",
      "\n"
     ]
    }
   ],
   "source": [
    "conv_base = VGG16(weights='imagenet',\n",
    "                  include_top=False,\n",
    "                  input_shape=(150, 150, 3))\n",
    "model = models.Sequential()\n",
    "model.add(conv_base)\n",
    "model.add(layers.Flatten())\n",
    "model.add(layers.Dense(256, activation='relu'))\n",
    "model.add(layers.Dense(1, activation='sigmoid'))"
   ]
  },
  {
   "cell_type": "code",
   "execution_count": 3,
   "metadata": {},
   "outputs": [],
   "source": [
    "conv_base.trainable = True\n",
    "set_trainable = False\n",
    "for layer in conv_base.layers:\n",
    "    if layer.name == 'block5_conv1':\n",
    "        set_trainable = True\n",
    "    if set_trainable:\n",
    "        layer.trainable = True\n",
    "    else:\n",
    "        layer.trainable = False"
   ]
  },
  {
   "cell_type": "code",
   "execution_count": 4,
   "metadata": {},
   "outputs": [
    {
     "name": "stdout",
     "output_type": "stream",
     "text": [
      "Model: \"sequential_1\"\n",
      "_________________________________________________________________\n",
      "Layer (type)                 Output Shape              Param #   \n",
      "=================================================================\n",
      "vgg16 (Model)                (None, 4, 4, 512)         14714688  \n",
      "_________________________________________________________________\n",
      "flatten_1 (Flatten)          (None, 8192)              0         \n",
      "_________________________________________________________________\n",
      "dense_1 (Dense)              (None, 256)               2097408   \n",
      "_________________________________________________________________\n",
      "dense_2 (Dense)              (None, 1)                 257       \n",
      "=================================================================\n",
      "Total params: 16,812,353\n",
      "Trainable params: 9,177,089\n",
      "Non-trainable params: 7,635,264\n",
      "_________________________________________________________________\n"
     ]
    }
   ],
   "source": [
    "model.summary()"
   ]
  },
  {
   "cell_type": "code",
   "execution_count": 5,
   "metadata": {},
   "outputs": [],
   "source": [
    "from keras.preprocessing.image import ImageDataGenerator\n",
    "from keras import optimizers"
   ]
  },
  {
   "cell_type": "code",
   "execution_count": 6,
   "metadata": {},
   "outputs": [
    {
     "name": "stdout",
     "output_type": "stream",
     "text": [
      "WARNING:tensorflow:From /data/bitt/wzq/anaconda3/envs/tf_gpu/lib/python3.7/site-packages/tensorflow/python/ops/nn_impl.py:180: add_dispatch_support.<locals>.wrapper (from tensorflow.python.ops.array_ops) is deprecated and will be removed in a future version.\n",
      "Instructions for updating:\n",
      "Use tf.where in 2.0, which has the same broadcast rule as np.where\n"
     ]
    }
   ],
   "source": [
    "model.compile(loss='binary_crossentropy',\n",
    "              optimizer=optimizers.RMSprop(lr=1e-5),\n",
    "              metrics=['acc'])"
   ]
  },
  {
   "cell_type": "code",
   "execution_count": 7,
   "metadata": {},
   "outputs": [],
   "source": [
    "train_datagen = ImageDataGenerator(\n",
    "                                   rescale=1./255,\n",
    "                                   rotation_range=40,\n",
    "                                   width_shift_range=0.2,\n",
    "                                   height_shift_range=0.2,\n",
    "                                   shear_range=0.2,\n",
    "                                   zoom_range=0.2,\n",
    "                                   horizontal_flip=True,\n",
    "                                   fill_mode='nearest')"
   ]
  },
  {
   "cell_type": "code",
   "execution_count": 8,
   "metadata": {},
   "outputs": [],
   "source": [
    "test_datagen = ImageDataGenerator(rescale=1./255)"
   ]
  },
  {
   "cell_type": "code",
   "execution_count": 9,
   "metadata": {},
   "outputs": [],
   "source": [
    "base_dir = r\"/data/bitt/wzq/wzq/python-deep-learning/data/cats_and_dogs_small\"\n",
    "train_dir = os.path.join(base_dir, 'train')\n",
    "validation_dir = os.path.join(base_dir, 'validation')\n",
    "test_dir = os.path.join(base_dir, 'test')"
   ]
  },
  {
   "cell_type": "code",
   "execution_count": 10,
   "metadata": {},
   "outputs": [
    {
     "name": "stdout",
     "output_type": "stream",
     "text": [
      "Found 2000 images belonging to 2 classes.\n",
      "Found 1000 images belonging to 2 classes.\n"
     ]
    }
   ],
   "source": [
    "train_generator = train_datagen.flow_from_directory(train_dir, target_size=(150, 150), batch_size=20, class_mode='binary')\n",
    "validation_generator = test_datagen.flow_from_directory(validation_dir, target_size=(150, 150), batch_size=20, class_mode='binary')"
   ]
  },
  {
   "cell_type": "code",
   "execution_count": 11,
   "metadata": {},
   "outputs": [
    {
     "name": "stdout",
     "output_type": "stream",
     "text": [
      "WARNING:tensorflow:From /data/bitt/wzq/anaconda3/envs/tf_gpu/lib/python3.7/site-packages/keras/backend/tensorflow_backend.py:422: The name tf.global_variables is deprecated. Please use tf.compat.v1.global_variables instead.\n",
      "\n",
      "Epoch 1/100\n",
      "100/100 [==============================] - 68s 677ms/step - loss: 0.5433 - acc: 0.7295 - val_loss: 0.3751 - val_acc: 0.8570\n",
      "Epoch 2/100\n",
      "100/100 [==============================] - 66s 664ms/step - loss: 0.3669 - acc: 0.8380 - val_loss: 0.2812 - val_acc: 0.8980\n",
      "Epoch 3/100\n",
      "100/100 [==============================] - 67s 665ms/step - loss: 0.3184 - acc: 0.8600 - val_loss: 0.2853 - val_acc: 0.9080\n",
      "Epoch 4/100\n",
      "100/100 [==============================] - 67s 665ms/step - loss: 0.2864 - acc: 0.8780 - val_loss: 0.2368 - val_acc: 0.9120\n",
      "Epoch 5/100\n",
      "100/100 [==============================] - 67s 666ms/step - loss: 0.2587 - acc: 0.8895 - val_loss: 0.1573 - val_acc: 0.9110\n",
      "Epoch 6/100\n",
      "100/100 [==============================] - 67s 665ms/step - loss: 0.2393 - acc: 0.9030 - val_loss: 0.2476 - val_acc: 0.9070\n",
      "Epoch 7/100\n",
      "100/100 [==============================] - 67s 669ms/step - loss: 0.2363 - acc: 0.8985 - val_loss: 0.1353 - val_acc: 0.9220\n",
      "Epoch 8/100\n",
      "100/100 [==============================] - 67s 671ms/step - loss: 0.2215 - acc: 0.9060 - val_loss: 0.0366 - val_acc: 0.9190\n",
      "Epoch 9/100\n",
      "100/100 [==============================] - 67s 668ms/step - loss: 0.2126 - acc: 0.9095 - val_loss: 0.0456 - val_acc: 0.9230\n",
      "Epoch 10/100\n",
      "100/100 [==============================] - 67s 671ms/step - loss: 0.1997 - acc: 0.9175 - val_loss: 0.1831 - val_acc: 0.9200\n",
      "Epoch 11/100\n",
      "100/100 [==============================] - 67s 668ms/step - loss: 0.1986 - acc: 0.9155 - val_loss: 0.0655 - val_acc: 0.9140\n",
      "Epoch 12/100\n",
      "100/100 [==============================] - 67s 667ms/step - loss: 0.1889 - acc: 0.9245 - val_loss: 0.1674 - val_acc: 0.9210\n",
      "Epoch 13/100\n",
      "100/100 [==============================] - 67s 667ms/step - loss: 0.1765 - acc: 0.9275 - val_loss: 0.3204 - val_acc: 0.9310\n",
      "Epoch 14/100\n",
      "100/100 [==============================] - 67s 667ms/step - loss: 0.1712 - acc: 0.9290 - val_loss: 0.1814 - val_acc: 0.9210\n",
      "Epoch 15/100\n",
      "100/100 [==============================] - 67s 669ms/step - loss: 0.1508 - acc: 0.9375 - val_loss: 0.1666 - val_acc: 0.9300\n",
      "Epoch 16/100\n",
      "100/100 [==============================] - 67s 675ms/step - loss: 0.1630 - acc: 0.9365 - val_loss: 0.4033 - val_acc: 0.9300\n",
      "Epoch 17/100\n",
      "100/100 [==============================] - 71s 706ms/step - loss: 0.1534 - acc: 0.9325 - val_loss: 0.0681 - val_acc: 0.9320\n",
      "Epoch 18/100\n",
      "100/100 [==============================] - 70s 696ms/step - loss: 0.1488 - acc: 0.9380 - val_loss: 0.1718 - val_acc: 0.9300\n",
      "Epoch 19/100\n",
      "100/100 [==============================] - 67s 669ms/step - loss: 0.1308 - acc: 0.9510 - val_loss: 0.0212 - val_acc: 0.9260\n",
      "Epoch 20/100\n",
      "100/100 [==============================] - 67s 671ms/step - loss: 0.1388 - acc: 0.9440 - val_loss: 0.2235 - val_acc: 0.9180\n",
      "Epoch 21/100\n",
      "100/100 [==============================] - 67s 670ms/step - loss: 0.1334 - acc: 0.9460 - val_loss: 0.0641 - val_acc: 0.9350\n",
      "Epoch 22/100\n",
      "100/100 [==============================] - 67s 673ms/step - loss: 0.1284 - acc: 0.9495 - val_loss: 0.0690 - val_acc: 0.9320\n",
      "Epoch 23/100\n",
      "100/100 [==============================] - 68s 680ms/step - loss: 0.1230 - acc: 0.9550 - val_loss: 0.4093 - val_acc: 0.9340\n",
      "Epoch 24/100\n",
      "100/100 [==============================] - 68s 678ms/step - loss: 0.1084 - acc: 0.9540 - val_loss: 0.3040 - val_acc: 0.9330\n",
      "Epoch 25/100\n",
      "100/100 [==============================] - 69s 689ms/step - loss: 0.1111 - acc: 0.9570 - val_loss: 0.1457 - val_acc: 0.9320\n",
      "Epoch 26/100\n",
      "100/100 [==============================] - 69s 692ms/step - loss: 0.1112 - acc: 0.9570 - val_loss: 0.0833 - val_acc: 0.9360\n",
      "Epoch 27/100\n",
      "100/100 [==============================] - 67s 672ms/step - loss: 0.1170 - acc: 0.9540 - val_loss: 0.0715 - val_acc: 0.9360\n",
      "Epoch 28/100\n",
      "100/100 [==============================] - 68s 681ms/step - loss: 0.1048 - acc: 0.9610 - val_loss: 0.4264 - val_acc: 0.9310\n",
      "Epoch 29/100\n",
      "100/100 [==============================] - 70s 699ms/step - loss: 0.0989 - acc: 0.9580 - val_loss: 0.3040 - val_acc: 0.9360\n",
      "Epoch 30/100\n",
      "100/100 [==============================] - 70s 698ms/step - loss: 0.0975 - acc: 0.9610 - val_loss: 0.4813 - val_acc: 0.9300\n",
      "Epoch 31/100\n",
      "100/100 [==============================] - 68s 684ms/step - loss: 0.0929 - acc: 0.9630 - val_loss: 0.1315 - val_acc: 0.9380\n",
      "Epoch 32/100\n",
      "100/100 [==============================] - 70s 695ms/step - loss: 0.0931 - acc: 0.9615 - val_loss: 0.1047 - val_acc: 0.9390\n",
      "Epoch 33/100\n",
      "100/100 [==============================] - 69s 687ms/step - loss: 0.0847 - acc: 0.9720 - val_loss: 0.3837 - val_acc: 0.9380\n",
      "Epoch 34/100\n",
      "100/100 [==============================] - 70s 698ms/step - loss: 0.0764 - acc: 0.9665 - val_loss: 0.0909 - val_acc: 0.9230\n",
      "Epoch 35/100\n",
      "100/100 [==============================] - 70s 701ms/step - loss: 0.0908 - acc: 0.9640 - val_loss: 0.0038 - val_acc: 0.9140\n",
      "Epoch 36/100\n",
      "100/100 [==============================] - 71s 712ms/step - loss: 0.0892 - acc: 0.9630 - val_loss: 0.4820 - val_acc: 0.9390\n",
      "Epoch 37/100\n",
      "100/100 [==============================] - 69s 691ms/step - loss: 0.0676 - acc: 0.9725 - val_loss: 0.2604 - val_acc: 0.9310\n",
      "Epoch 38/100\n",
      "100/100 [==============================] - 68s 683ms/step - loss: 0.0744 - acc: 0.9735 - val_loss: 0.0237 - val_acc: 0.9250\n",
      "Epoch 39/100\n",
      "100/100 [==============================] - 70s 698ms/step - loss: 0.0816 - acc: 0.9655 - val_loss: 0.3615 - val_acc: 0.9260\n",
      "Epoch 40/100\n",
      "100/100 [==============================] - 67s 674ms/step - loss: 0.0720 - acc: 0.9735 - val_loss: 0.3520 - val_acc: 0.9330\n",
      "Epoch 41/100\n",
      "100/100 [==============================] - 69s 694ms/step - loss: 0.0696 - acc: 0.9750 - val_loss: 0.6178 - val_acc: 0.9260\n",
      "Epoch 42/100\n",
      "100/100 [==============================] - 68s 681ms/step - loss: 0.0719 - acc: 0.9725 - val_loss: 0.0900 - val_acc: 0.9370\n",
      "Epoch 43/100\n",
      "100/100 [==============================] - 69s 689ms/step - loss: 0.0678 - acc: 0.9750 - val_loss: 0.2372 - val_acc: 0.9400\n",
      "Epoch 44/100\n",
      "100/100 [==============================] - 70s 701ms/step - loss: 0.0638 - acc: 0.9770 - val_loss: 0.6443 - val_acc: 0.9350\n",
      "Epoch 45/100\n",
      "100/100 [==============================] - 70s 699ms/step - loss: 0.0655 - acc: 0.9740 - val_loss: 0.0342 - val_acc: 0.9430\n",
      "Epoch 46/100\n",
      "100/100 [==============================] - 68s 682ms/step - loss: 0.0591 - acc: 0.9770 - val_loss: 0.2256 - val_acc: 0.9350\n",
      "Epoch 47/100\n",
      "100/100 [==============================] - 70s 697ms/step - loss: 0.0621 - acc: 0.9780 - val_loss: 0.3447 - val_acc: 0.9210\n",
      "Epoch 48/100\n",
      "100/100 [==============================] - 69s 695ms/step - loss: 0.0490 - acc: 0.9795 - val_loss: 0.1332 - val_acc: 0.9420\n",
      "Epoch 49/100\n",
      "100/100 [==============================] - 69s 693ms/step - loss: 0.0599 - acc: 0.9785 - val_loss: 0.3109 - val_acc: 0.9350\n",
      "Epoch 50/100\n",
      "100/100 [==============================] - 71s 708ms/step - loss: 0.0545 - acc: 0.9780 - val_loss: 0.0090 - val_acc: 0.9340\n",
      "Epoch 51/100\n",
      "100/100 [==============================] - 69s 689ms/step - loss: 0.0533 - acc: 0.9785 - val_loss: 0.6081 - val_acc: 0.8960\n",
      "Epoch 52/100\n",
      "100/100 [==============================] - 69s 688ms/step - loss: 0.0459 - acc: 0.9810 - val_loss: 0.0108 - val_acc: 0.9360\n",
      "Epoch 53/100\n",
      "100/100 [==============================] - 69s 693ms/step - loss: 0.0439 - acc: 0.9835 - val_loss: 0.1535 - val_acc: 0.9300\n",
      "Epoch 54/100\n",
      "100/100 [==============================] - 71s 708ms/step - loss: 0.0366 - acc: 0.9850 - val_loss: 0.0671 - val_acc: 0.9330\n",
      "Epoch 55/100\n",
      "100/100 [==============================] - 70s 699ms/step - loss: 0.0405 - acc: 0.9865 - val_loss: 0.3955 - val_acc: 0.9300\n",
      "Epoch 56/100\n",
      "100/100 [==============================] - 70s 696ms/step - loss: 0.0454 - acc: 0.9820 - val_loss: 0.9704 - val_acc: 0.9270\n",
      "Epoch 57/100\n",
      "100/100 [==============================] - 70s 703ms/step - loss: 0.0513 - acc: 0.9825 - val_loss: 0.3011 - val_acc: 0.9250\n",
      "Epoch 58/100\n",
      "100/100 [==============================] - 72s 722ms/step - loss: 0.0573 - acc: 0.9830 - val_loss: 0.2971 - val_acc: 0.9270\n",
      "Epoch 59/100\n",
      "100/100 [==============================] - 72s 719ms/step - loss: 0.0443 - acc: 0.9830 - val_loss: 0.2350 - val_acc: 0.9290\n",
      "Epoch 60/100\n",
      "100/100 [==============================] - 70s 702ms/step - loss: 0.0436 - acc: 0.9830 - val_loss: 0.0017 - val_acc: 0.9310\n",
      "Epoch 61/100\n",
      "100/100 [==============================] - 73s 730ms/step - loss: 0.0400 - acc: 0.9855 - val_loss: 0.0174 - val_acc: 0.9380\n",
      "Epoch 62/100\n",
      "100/100 [==============================] - 69s 685ms/step - loss: 0.0373 - acc: 0.9865 - val_loss: 0.0043 - val_acc: 0.9330\n",
      "Epoch 63/100\n",
      "100/100 [==============================] - 70s 700ms/step - loss: 0.0378 - acc: 0.9880 - val_loss: 0.0265 - val_acc: 0.9380\n",
      "Epoch 64/100\n",
      "100/100 [==============================] - 70s 696ms/step - loss: 0.0370 - acc: 0.9870 - val_loss: 0.6821 - val_acc: 0.9400\n",
      "Epoch 65/100\n",
      "100/100 [==============================] - 70s 697ms/step - loss: 0.0394 - acc: 0.9865 - val_loss: 0.9635 - val_acc: 0.9370\n",
      "Epoch 66/100\n",
      "100/100 [==============================] - 70s 702ms/step - loss: 0.0459 - acc: 0.9800 - val_loss: 0.2133 - val_acc: 0.9370\n",
      "Epoch 67/100\n",
      "100/100 [==============================] - 70s 700ms/step - loss: 0.0298 - acc: 0.9880 - val_loss: 0.6697 - val_acc: 0.9340\n",
      "Epoch 68/100\n",
      "100/100 [==============================] - 71s 710ms/step - loss: 0.0369 - acc: 0.9870 - val_loss: 0.0883 - val_acc: 0.9350\n",
      "Epoch 69/100\n",
      "100/100 [==============================] - 70s 704ms/step - loss: 0.0461 - acc: 0.9810 - val_loss: 0.2175 - val_acc: 0.9340\n",
      "Epoch 70/100\n",
      "100/100 [==============================] - 69s 692ms/step - loss: 0.0317 - acc: 0.9875 - val_loss: 0.1886 - val_acc: 0.9400\n",
      "Epoch 71/100\n",
      "100/100 [==============================] - 70s 701ms/step - loss: 0.0413 - acc: 0.9845 - val_loss: 0.1461 - val_acc: 0.9320\n",
      "Epoch 72/100\n",
      "100/100 [==============================] - 69s 694ms/step - loss: 0.0385 - acc: 0.9880 - val_loss: 0.7817 - val_acc: 0.9330\n",
      "Epoch 73/100\n",
      "100/100 [==============================] - 70s 701ms/step - loss: 0.0437 - acc: 0.9850 - val_loss: 0.2044 - val_acc: 0.9390\n",
      "Epoch 74/100\n",
      "100/100 [==============================] - 70s 700ms/step - loss: 0.0305 - acc: 0.9875 - val_loss: 0.8003 - val_acc: 0.9220\n",
      "Epoch 75/100\n",
      "100/100 [==============================] - 70s 698ms/step - loss: 0.0316 - acc: 0.9905 - val_loss: 0.3591 - val_acc: 0.9340\n",
      "Epoch 76/100\n",
      "100/100 [==============================] - 70s 702ms/step - loss: 0.0331 - acc: 0.9870 - val_loss: 0.1972 - val_acc: 0.9330\n",
      "Epoch 77/100\n",
      "100/100 [==============================] - 70s 701ms/step - loss: 0.0383 - acc: 0.9885 - val_loss: 0.0100 - val_acc: 0.9320\n",
      "Epoch 78/100\n",
      "100/100 [==============================] - 70s 701ms/step - loss: 0.0283 - acc: 0.9905 - val_loss: 0.1718 - val_acc: 0.9350\n",
      "Epoch 79/100\n",
      "100/100 [==============================] - 70s 704ms/step - loss: 0.0212 - acc: 0.9925 - val_loss: 0.2126 - val_acc: 0.9300\n",
      "Epoch 80/100\n",
      "100/100 [==============================] - 70s 698ms/step - loss: 0.0299 - acc: 0.9885 - val_loss: 0.2877 - val_acc: 0.9360\n",
      "Epoch 81/100\n",
      "100/100 [==============================] - 70s 702ms/step - loss: 0.0272 - acc: 0.9910 - val_loss: 0.2346 - val_acc: 0.9400\n",
      "Epoch 82/100\n",
      "100/100 [==============================] - 70s 699ms/step - loss: 0.0354 - acc: 0.9875 - val_loss: 0.5327 - val_acc: 0.9380\n",
      "Epoch 83/100\n",
      "100/100 [==============================] - 70s 698ms/step - loss: 0.0281 - acc: 0.9920 - val_loss: 0.5072 - val_acc: 0.9430\n",
      "Epoch 84/100\n",
      "100/100 [==============================] - 69s 694ms/step - loss: 0.0291 - acc: 0.9910 - val_loss: 0.2431 - val_acc: 0.9360\n",
      "Epoch 85/100\n",
      "100/100 [==============================] - 72s 721ms/step - loss: 0.0225 - acc: 0.9910 - val_loss: 1.0151 - val_acc: 0.9310\n",
      "Epoch 86/100\n",
      "100/100 [==============================] - 73s 729ms/step - loss: 0.0225 - acc: 0.9935 - val_loss: 0.2814 - val_acc: 0.9210\n",
      "Epoch 87/100\n",
      "100/100 [==============================] - 69s 695ms/step - loss: 0.0249 - acc: 0.9885 - val_loss: 0.1733 - val_acc: 0.9330\n",
      "Epoch 88/100\n",
      "100/100 [==============================] - 69s 693ms/step - loss: 0.0269 - acc: 0.9885 - val_loss: 0.0697 - val_acc: 0.9370\n",
      "Epoch 89/100\n",
      "100/100 [==============================] - 70s 702ms/step - loss: 0.0302 - acc: 0.9905 - val_loss: 0.0040 - val_acc: 0.9310\n",
      "Epoch 90/100\n",
      "100/100 [==============================] - 69s 694ms/step - loss: 0.0244 - acc: 0.9920 - val_loss: 0.2571 - val_acc: 0.9280\n",
      "Epoch 91/100\n",
      "100/100 [==============================] - 70s 703ms/step - loss: 0.0223 - acc: 0.9905 - val_loss: 0.1494 - val_acc: 0.9450\n",
      "Epoch 92/100\n",
      "100/100 [==============================] - 68s 679ms/step - loss: 0.0299 - acc: 0.9915 - val_loss: 0.5232 - val_acc: 0.9470\n",
      "Epoch 93/100\n",
      "100/100 [==============================] - 70s 698ms/step - loss: 0.0220 - acc: 0.9925 - val_loss: 0.9544 - val_acc: 0.9330\n",
      "Epoch 94/100\n",
      "100/100 [==============================] - 71s 707ms/step - loss: 0.0236 - acc: 0.9940 - val_loss: 0.0749 - val_acc: 0.9420\n",
      "Epoch 95/100\n",
      "100/100 [==============================] - 67s 674ms/step - loss: 0.0235 - acc: 0.9895 - val_loss: 1.8555e-04 - val_acc: 0.9320\n",
      "Epoch 96/100\n",
      "100/100 [==============================] - 69s 690ms/step - loss: 0.0318 - acc: 0.9870 - val_loss: 0.0129 - val_acc: 0.9380\n",
      "Epoch 97/100\n",
      "100/100 [==============================] - 69s 690ms/step - loss: 0.0176 - acc: 0.9940 - val_loss: 0.2747 - val_acc: 0.9440\n",
      "Epoch 98/100\n",
      "100/100 [==============================] - 75s 750ms/step - loss: 0.0226 - acc: 0.9925 - val_loss: 0.1259 - val_acc: 0.9430\n",
      "Epoch 99/100\n",
      "100/100 [==============================] - 70s 704ms/step - loss: 0.0235 - acc: 0.9925 - val_loss: 0.3266 - val_acc: 0.9380\n",
      "Epoch 100/100\n",
      "100/100 [==============================] - 71s 713ms/step - loss: 0.0195 - acc: 0.9915 - val_loss: 0.3395 - val_acc: 0.9380\n"
     ]
    }
   ],
   "source": [
    "history = model.fit_generator(train_generator, steps_per_epoch=100,\n",
    "                              epochs=100, validation_data=validation_generator,\n",
    "                              validation_steps=50) "
   ]
  },
  {
   "cell_type": "code",
   "execution_count": 11,
   "metadata": {},
   "outputs": [
    {
     "name": "stdout",
     "output_type": "stream",
     "text": [
      "WARNING:tensorflow:From /data/bitt/wzq/anaconda3/envs/tf_gpu/lib/python3.7/site-packages/keras/backend/tensorflow_backend.py:422: The name tf.global_variables is deprecated. Please use tf.compat.v1.global_variables instead.\n",
      "\n",
      "Epoch 1/100\n",
      " 25/100 [======>.......................] - ETA: 54s - loss: 0.6862 - acc: 0.5660"
     ]
    },
    {
     "ename": "KeyboardInterrupt",
     "evalue": "",
     "output_type": "error",
     "traceback": [
      "\u001b[0;31m---------------------------------------------------------------------------\u001b[0m",
      "\u001b[0;31mKeyboardInterrupt\u001b[0m                         Traceback (most recent call last)",
      "\u001b[0;32m<ipython-input-11-12cc28991152>\u001b[0m in \u001b[0;36m<module>\u001b[0;34m\u001b[0m\n\u001b[1;32m      1\u001b[0m history = model.fit_generator(train_generator, steps_per_epoch=100,\n\u001b[1;32m      2\u001b[0m                               \u001b[0mepochs\u001b[0m\u001b[0;34m=\u001b[0m\u001b[0;36m100\u001b[0m\u001b[0;34m,\u001b[0m \u001b[0mvalidation_data\u001b[0m\u001b[0;34m=\u001b[0m\u001b[0mvalidation_generator\u001b[0m\u001b[0;34m,\u001b[0m\u001b[0;34m\u001b[0m\u001b[0;34m\u001b[0m\u001b[0m\n\u001b[0;32m----> 3\u001b[0;31m                               validation_steps=50) \n\u001b[0m",
      "\u001b[0;32m/data/bitt/wzq/anaconda3/envs/tf_gpu/lib/python3.7/site-packages/keras/legacy/interfaces.py\u001b[0m in \u001b[0;36mwrapper\u001b[0;34m(*args, **kwargs)\u001b[0m\n\u001b[1;32m     89\u001b[0m                 warnings.warn('Update your `' + object_name + '` call to the ' +\n\u001b[1;32m     90\u001b[0m                               'Keras 2 API: ' + signature, stacklevel=2)\n\u001b[0;32m---> 91\u001b[0;31m             \u001b[0;32mreturn\u001b[0m \u001b[0mfunc\u001b[0m\u001b[0;34m(\u001b[0m\u001b[0;34m*\u001b[0m\u001b[0margs\u001b[0m\u001b[0;34m,\u001b[0m \u001b[0;34m**\u001b[0m\u001b[0mkwargs\u001b[0m\u001b[0;34m)\u001b[0m\u001b[0;34m\u001b[0m\u001b[0;34m\u001b[0m\u001b[0m\n\u001b[0m\u001b[1;32m     92\u001b[0m         \u001b[0mwrapper\u001b[0m\u001b[0;34m.\u001b[0m\u001b[0m_original_function\u001b[0m \u001b[0;34m=\u001b[0m \u001b[0mfunc\u001b[0m\u001b[0;34m\u001b[0m\u001b[0;34m\u001b[0m\u001b[0m\n\u001b[1;32m     93\u001b[0m         \u001b[0;32mreturn\u001b[0m \u001b[0mwrapper\u001b[0m\u001b[0;34m\u001b[0m\u001b[0;34m\u001b[0m\u001b[0m\n",
      "\u001b[0;32m/data/bitt/wzq/anaconda3/envs/tf_gpu/lib/python3.7/site-packages/keras/engine/training.py\u001b[0m in \u001b[0;36mfit_generator\u001b[0;34m(self, generator, steps_per_epoch, epochs, verbose, callbacks, validation_data, validation_steps, validation_freq, class_weight, max_queue_size, workers, use_multiprocessing, shuffle, initial_epoch)\u001b[0m\n\u001b[1;32m   1730\u001b[0m             \u001b[0muse_multiprocessing\u001b[0m\u001b[0;34m=\u001b[0m\u001b[0muse_multiprocessing\u001b[0m\u001b[0;34m,\u001b[0m\u001b[0;34m\u001b[0m\u001b[0;34m\u001b[0m\u001b[0m\n\u001b[1;32m   1731\u001b[0m             \u001b[0mshuffle\u001b[0m\u001b[0;34m=\u001b[0m\u001b[0mshuffle\u001b[0m\u001b[0;34m,\u001b[0m\u001b[0;34m\u001b[0m\u001b[0;34m\u001b[0m\u001b[0m\n\u001b[0;32m-> 1732\u001b[0;31m             initial_epoch=initial_epoch)\n\u001b[0m\u001b[1;32m   1733\u001b[0m \u001b[0;34m\u001b[0m\u001b[0m\n\u001b[1;32m   1734\u001b[0m     \u001b[0;34m@\u001b[0m\u001b[0minterfaces\u001b[0m\u001b[0;34m.\u001b[0m\u001b[0mlegacy_generator_methods_support\u001b[0m\u001b[0;34m\u001b[0m\u001b[0;34m\u001b[0m\u001b[0m\n",
      "\u001b[0;32m/data/bitt/wzq/anaconda3/envs/tf_gpu/lib/python3.7/site-packages/keras/engine/training_generator.py\u001b[0m in \u001b[0;36mfit_generator\u001b[0;34m(model, generator, steps_per_epoch, epochs, verbose, callbacks, validation_data, validation_steps, validation_freq, class_weight, max_queue_size, workers, use_multiprocessing, shuffle, initial_epoch)\u001b[0m\n\u001b[1;32m    218\u001b[0m                                             \u001b[0msample_weight\u001b[0m\u001b[0;34m=\u001b[0m\u001b[0msample_weight\u001b[0m\u001b[0;34m,\u001b[0m\u001b[0;34m\u001b[0m\u001b[0;34m\u001b[0m\u001b[0m\n\u001b[1;32m    219\u001b[0m                                             \u001b[0mclass_weight\u001b[0m\u001b[0;34m=\u001b[0m\u001b[0mclass_weight\u001b[0m\u001b[0;34m,\u001b[0m\u001b[0;34m\u001b[0m\u001b[0;34m\u001b[0m\u001b[0m\n\u001b[0;32m--> 220\u001b[0;31m                                             reset_metrics=False)\n\u001b[0m\u001b[1;32m    221\u001b[0m \u001b[0;34m\u001b[0m\u001b[0m\n\u001b[1;32m    222\u001b[0m                 \u001b[0mouts\u001b[0m \u001b[0;34m=\u001b[0m \u001b[0mto_list\u001b[0m\u001b[0;34m(\u001b[0m\u001b[0mouts\u001b[0m\u001b[0;34m)\u001b[0m\u001b[0;34m\u001b[0m\u001b[0;34m\u001b[0m\u001b[0m\n",
      "\u001b[0;32m/data/bitt/wzq/anaconda3/envs/tf_gpu/lib/python3.7/site-packages/keras/engine/training.py\u001b[0m in \u001b[0;36mtrain_on_batch\u001b[0;34m(self, x, y, sample_weight, class_weight, reset_metrics)\u001b[0m\n\u001b[1;32m   1512\u001b[0m             \u001b[0mins\u001b[0m \u001b[0;34m=\u001b[0m \u001b[0mx\u001b[0m \u001b[0;34m+\u001b[0m \u001b[0my\u001b[0m \u001b[0;34m+\u001b[0m \u001b[0msample_weights\u001b[0m\u001b[0;34m\u001b[0m\u001b[0;34m\u001b[0m\u001b[0m\n\u001b[1;32m   1513\u001b[0m         \u001b[0mself\u001b[0m\u001b[0;34m.\u001b[0m\u001b[0m_make_train_function\u001b[0m\u001b[0;34m(\u001b[0m\u001b[0;34m)\u001b[0m\u001b[0;34m\u001b[0m\u001b[0;34m\u001b[0m\u001b[0m\n\u001b[0;32m-> 1514\u001b[0;31m         \u001b[0moutputs\u001b[0m \u001b[0;34m=\u001b[0m \u001b[0mself\u001b[0m\u001b[0;34m.\u001b[0m\u001b[0mtrain_function\u001b[0m\u001b[0;34m(\u001b[0m\u001b[0mins\u001b[0m\u001b[0;34m)\u001b[0m\u001b[0;34m\u001b[0m\u001b[0;34m\u001b[0m\u001b[0m\n\u001b[0m\u001b[1;32m   1515\u001b[0m \u001b[0;34m\u001b[0m\u001b[0m\n\u001b[1;32m   1516\u001b[0m         \u001b[0;32mif\u001b[0m \u001b[0mreset_metrics\u001b[0m\u001b[0;34m:\u001b[0m\u001b[0;34m\u001b[0m\u001b[0;34m\u001b[0m\u001b[0m\n",
      "\u001b[0;32m/data/bitt/wzq/anaconda3/envs/tf_gpu/lib/python3.7/site-packages/tensorflow/python/keras/backend.py\u001b[0m in \u001b[0;36m__call__\u001b[0;34m(self, inputs)\u001b[0m\n\u001b[1;32m   3290\u001b[0m \u001b[0;34m\u001b[0m\u001b[0m\n\u001b[1;32m   3291\u001b[0m     fetched = self._callable_fn(*array_vals,\n\u001b[0;32m-> 3292\u001b[0;31m                                 run_metadata=self.run_metadata)\n\u001b[0m\u001b[1;32m   3293\u001b[0m     \u001b[0mself\u001b[0m\u001b[0;34m.\u001b[0m\u001b[0m_call_fetch_callbacks\u001b[0m\u001b[0;34m(\u001b[0m\u001b[0mfetched\u001b[0m\u001b[0;34m[\u001b[0m\u001b[0;34m-\u001b[0m\u001b[0mlen\u001b[0m\u001b[0;34m(\u001b[0m\u001b[0mself\u001b[0m\u001b[0;34m.\u001b[0m\u001b[0m_fetches\u001b[0m\u001b[0;34m)\u001b[0m\u001b[0;34m:\u001b[0m\u001b[0;34m]\u001b[0m\u001b[0;34m)\u001b[0m\u001b[0;34m\u001b[0m\u001b[0;34m\u001b[0m\u001b[0m\n\u001b[1;32m   3294\u001b[0m     output_structure = nest.pack_sequence_as(\n",
      "\u001b[0;32m/data/bitt/wzq/anaconda3/envs/tf_gpu/lib/python3.7/site-packages/tensorflow/python/client/session.py\u001b[0m in \u001b[0;36m__call__\u001b[0;34m(self, *args, **kwargs)\u001b[0m\n\u001b[1;32m   1456\u001b[0m         ret = tf_session.TF_SessionRunCallable(self._session._session,\n\u001b[1;32m   1457\u001b[0m                                                \u001b[0mself\u001b[0m\u001b[0;34m.\u001b[0m\u001b[0m_handle\u001b[0m\u001b[0;34m,\u001b[0m \u001b[0margs\u001b[0m\u001b[0;34m,\u001b[0m\u001b[0;34m\u001b[0m\u001b[0;34m\u001b[0m\u001b[0m\n\u001b[0;32m-> 1458\u001b[0;31m                                                run_metadata_ptr)\n\u001b[0m\u001b[1;32m   1459\u001b[0m         \u001b[0;32mif\u001b[0m \u001b[0mrun_metadata\u001b[0m\u001b[0;34m:\u001b[0m\u001b[0;34m\u001b[0m\u001b[0;34m\u001b[0m\u001b[0m\n\u001b[1;32m   1460\u001b[0m           \u001b[0mproto_data\u001b[0m \u001b[0;34m=\u001b[0m \u001b[0mtf_session\u001b[0m\u001b[0;34m.\u001b[0m\u001b[0mTF_GetBuffer\u001b[0m\u001b[0;34m(\u001b[0m\u001b[0mrun_metadata_ptr\u001b[0m\u001b[0;34m)\u001b[0m\u001b[0;34m\u001b[0m\u001b[0;34m\u001b[0m\u001b[0m\n",
      "\u001b[0;31mKeyboardInterrupt\u001b[0m: "
     ]
    }
   ],
   "source": [
    "history = model.fit_generator(train_generator, steps_per_epoch=100,\n",
    "                              epochs=100, validation_data=validation_generator,\n",
    "                              validation_steps=50) "
   ]
  },
  {
   "cell_type": "code",
   "execution_count": 12,
   "metadata": {},
   "outputs": [],
   "source": [
    "acc = history.history['acc']\n",
    "val_acc = history.history['val_acc']\n",
    "loss = history.history['loss']\n",
    "val_loss = history.history['val_loss']"
   ]
  },
  {
   "cell_type": "code",
   "execution_count": 13,
   "metadata": {},
   "outputs": [],
   "source": [
    "epoches = range(1, len(acc) + 1)"
   ]
  },
  {
   "cell_type": "code",
   "execution_count": 14,
   "metadata": {},
   "outputs": [],
   "source": [
    "import matplotlib.pyplot as plt"
   ]
  },
  {
   "cell_type": "code",
   "execution_count": 21,
   "metadata": {},
   "outputs": [
    {
     "data": {
      "image/png": "[encoded data removed]",
      "text/plain": [
       "<Figure size 432x288 with 1 Axes>"
      ]
     },
     "metadata": {
      "needs_background": "light"
     },
     "output_type": "display_data"
    },
    {
     "data": {
      "image/png": "[encoded data removed]",
      "text/plain": [
       "<Figure size 432x288 with 1 Axes>"
      ]
     },
     "metadata": {
      "needs_background": "light"
     },
     "output_type": "display_data"
    }
   ],
   "source": [
    "plt.plot(epoches, acc, 'bo', label=\"Training acc\")\n",
    "plt.plot(epoches, val_acc, 'b', label=\"Validation acc\")\n",
    "plt.title(\"Training and Validation acc\")\n",
    "plt.legend()\n",
    "plt.figure()\n",
    "plt.plot(epoches, loss, 'bo', label=\"Training loss\")\n",
    "plt.plot(epoches, val_loss, 'b', label=\"Validation loss\")\n",
    "plt.title(\"Training and Validation loss\")\n",
    "plt.legend()\n",
    "plt.show()"
   ]
  },
  {
   "cell_type": "code",
   "execution_count": null,
   "metadata": {},
   "outputs": [],
   "source": []
  },
  {
   "cell_type": "code",
   "execution_count": null,
   "metadata": {},
   "outputs": [],
   "source": []
  }
 ],
 "metadata": {
  "kernelspec": {
   "display_name": "tf_gpu",
   "language": "python",
   "name": "tf_gpu"
  },
  "language_info": {
   "codemirror_mode": {
    "name": "ipython",
    "version": 3
   },
   "file_extension": ".py",
   "mimetype": "text/x-python",
   "name": "python",
   "nbconvert_exporter": "python",
   "pygments_lexer": "ipython3",
   "version": "3.7.9"
  }
 },
 "nbformat": 4,
 "nbformat_minor": 2
}
